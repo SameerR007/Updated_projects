{
  "nbformat": 4,
  "nbformat_minor": 0,
  "metadata": {
    "colab": {
      "provenance": [],
      "collapsed_sections": [
        "dPdU1-Abv6Jt",
        "0ELPIRAzegg4",
        "CibmOO0HqAAD",
        "ylIStZrTuVZm"
      ],
      "toc_visible": true
    },
    "kernelspec": {
      "name": "python3",
      "display_name": "Python 3"
    },
    "language_info": {
      "name": "python"
    }
  },
  "cells": [
    {
      "cell_type": "markdown",
      "source": [
        "#Book Recommender System\n",
        "\n"
      ],
      "metadata": {
        "id": "zF13PJpKd4l0"
      }
    },
    {
      "cell_type": "markdown",
      "source": [
        "#Motivation"
      ],
      "metadata": {
        "id": "dPdU1-Abv6Jt"
      }
    },
    {
      "cell_type": "markdown",
      "source": [
        "Books have had a great impact on my life and I believe a good book can totally change the way one perceives the world. Hence creation of a recommendation system for books was something that needed to be worked upon.\n",
        "\n",
        "Demo link - https://sameerr007-bookrecommendernytbestseller.hf.space/\n",
        "\n",
        "Takes a book that user has read as a input and gives recommendation based on top 70 NYT bestsellers."
      ],
      "metadata": {
        "id": "turL17s9v2Vf"
      }
    },
    {
      "cell_type": "markdown",
      "source": [
        "#Creating dataset"
      ],
      "metadata": {
        "id": "0ELPIRAzegg4"
      }
    },
    {
      "cell_type": "code",
      "source": [
        "#fetching data from neyworktime servers through api\n",
        "import requests\n",
        "data_overview=requests.get(\"https://api.nytimes.com/svc/books/v3/lists/overview.json?api-key=KrShoQ5xJeMfF80AHfZKQzvNPrB2HucR\").json()"
      ],
      "metadata": {
        "id": "bvZArtrredMW"
      },
      "execution_count": 125,
      "outputs": []
    },
    {
      "cell_type": "code",
      "execution_count": 126,
      "metadata": {
        "id": "vcLcujBYdtFQ"
      },
      "outputs": [],
      "source": [
        "#creating dataframe for storing the required features of top 90 nyt bestseller books\n",
        "import pandas as pd\n",
        "import numpy as np\n",
        "data = pd.DataFrame(index=range(90),columns=['title','author','genres','description'])"
      ]
    },
    {
      "cell_type": "code",
      "source": [
        "data.head(5)"
      ],
      "metadata": {
        "colab": {
          "base_uri": "https://localhost:8080/",
          "height": 206
        },
        "id": "-saTn38sd-LH",
        "outputId": "b8fedffc-0c75-4a26-9be3-9de205b7d667"
      },
      "execution_count": 128,
      "outputs": [
        {
          "output_type": "execute_result",
          "data": {
            "text/plain": [
              "  title author genres description\n",
              "0   NaN    NaN    NaN         NaN\n",
              "1   NaN    NaN    NaN         NaN\n",
              "2   NaN    NaN    NaN         NaN\n",
              "3   NaN    NaN    NaN         NaN\n",
              "4   NaN    NaN    NaN         NaN"
            ],
            "text/html": [
              "\n",
              "  <div id=\"df-2a240da2-9338-49cd-80e9-45ad8c5edf43\">\n",
              "    <div class=\"colab-df-container\">\n",
              "      <div>\n",
              "<style scoped>\n",
              "    .dataframe tbody tr th:only-of-type {\n",
              "        vertical-align: middle;\n",
              "    }\n",
              "\n",
              "    .dataframe tbody tr th {\n",
              "        vertical-align: top;\n",
              "    }\n",
              "\n",
              "    .dataframe thead th {\n",
              "        text-align: right;\n",
              "    }\n",
              "</style>\n",
              "<table border=\"1\" class=\"dataframe\">\n",
              "  <thead>\n",
              "    <tr style=\"text-align: right;\">\n",
              "      <th></th>\n",
              "      <th>title</th>\n",
              "      <th>author</th>\n",
              "      <th>genres</th>\n",
              "      <th>description</th>\n",
              "    </tr>\n",
              "  </thead>\n",
              "  <tbody>\n",
              "    <tr>\n",
              "      <th>0</th>\n",
              "      <td>NaN</td>\n",
              "      <td>NaN</td>\n",
              "      <td>NaN</td>\n",
              "      <td>NaN</td>\n",
              "    </tr>\n",
              "    <tr>\n",
              "      <th>1</th>\n",
              "      <td>NaN</td>\n",
              "      <td>NaN</td>\n",
              "      <td>NaN</td>\n",
              "      <td>NaN</td>\n",
              "    </tr>\n",
              "    <tr>\n",
              "      <th>2</th>\n",
              "      <td>NaN</td>\n",
              "      <td>NaN</td>\n",
              "      <td>NaN</td>\n",
              "      <td>NaN</td>\n",
              "    </tr>\n",
              "    <tr>\n",
              "      <th>3</th>\n",
              "      <td>NaN</td>\n",
              "      <td>NaN</td>\n",
              "      <td>NaN</td>\n",
              "      <td>NaN</td>\n",
              "    </tr>\n",
              "    <tr>\n",
              "      <th>4</th>\n",
              "      <td>NaN</td>\n",
              "      <td>NaN</td>\n",
              "      <td>NaN</td>\n",
              "      <td>NaN</td>\n",
              "    </tr>\n",
              "  </tbody>\n",
              "</table>\n",
              "</div>\n",
              "      <button class=\"colab-df-convert\" onclick=\"convertToInteractive('df-2a240da2-9338-49cd-80e9-45ad8c5edf43')\"\n",
              "              title=\"Convert this dataframe to an interactive table.\"\n",
              "              style=\"display:none;\">\n",
              "        \n",
              "  <svg xmlns=\"http://www.w3.org/2000/svg\" height=\"24px\"viewBox=\"0 0 24 24\"\n",
              "       width=\"24px\">\n",
              "    <path d=\"M0 0h24v24H0V0z\" fill=\"none\"/>\n",
              "    <path d=\"M18.56 5.44l.94 2.06.94-2.06 2.06-.94-2.06-.94-.94-2.06-.94 2.06-2.06.94zm-11 1L8.5 8.5l.94-2.06 2.06-.94-2.06-.94L8.5 2.5l-.94 2.06-2.06.94zm10 10l.94 2.06.94-2.06 2.06-.94-2.06-.94-.94-2.06-.94 2.06-2.06.94z\"/><path d=\"M17.41 7.96l-1.37-1.37c-.4-.4-.92-.59-1.43-.59-.52 0-1.04.2-1.43.59L10.3 9.45l-7.72 7.72c-.78.78-.78 2.05 0 2.83L4 21.41c.39.39.9.59 1.41.59.51 0 1.02-.2 1.41-.59l7.78-7.78 2.81-2.81c.8-.78.8-2.07 0-2.86zM5.41 20L4 18.59l7.72-7.72 1.47 1.35L5.41 20z\"/>\n",
              "  </svg>\n",
              "      </button>\n",
              "      \n",
              "  <style>\n",
              "    .colab-df-container {\n",
              "      display:flex;\n",
              "      flex-wrap:wrap;\n",
              "      gap: 12px;\n",
              "    }\n",
              "\n",
              "    .colab-df-convert {\n",
              "      background-color: #E8F0FE;\n",
              "      border: none;\n",
              "      border-radius: 50%;\n",
              "      cursor: pointer;\n",
              "      display: none;\n",
              "      fill: #1967D2;\n",
              "      height: 32px;\n",
              "      padding: 0 0 0 0;\n",
              "      width: 32px;\n",
              "    }\n",
              "\n",
              "    .colab-df-convert:hover {\n",
              "      background-color: #E2EBFA;\n",
              "      box-shadow: 0px 1px 2px rgba(60, 64, 67, 0.3), 0px 1px 3px 1px rgba(60, 64, 67, 0.15);\n",
              "      fill: #174EA6;\n",
              "    }\n",
              "\n",
              "    [theme=dark] .colab-df-convert {\n",
              "      background-color: #3B4455;\n",
              "      fill: #D2E3FC;\n",
              "    }\n",
              "\n",
              "    [theme=dark] .colab-df-convert:hover {\n",
              "      background-color: #434B5C;\n",
              "      box-shadow: 0px 1px 3px 1px rgba(0, 0, 0, 0.15);\n",
              "      filter: drop-shadow(0px 1px 2px rgba(0, 0, 0, 0.3));\n",
              "      fill: #FFFFFF;\n",
              "    }\n",
              "  </style>\n",
              "\n",
              "      <script>\n",
              "        const buttonEl =\n",
              "          document.querySelector('#df-2a240da2-9338-49cd-80e9-45ad8c5edf43 button.colab-df-convert');\n",
              "        buttonEl.style.display =\n",
              "          google.colab.kernel.accessAllowed ? 'block' : 'none';\n",
              "\n",
              "        async function convertToInteractive(key) {\n",
              "          const element = document.querySelector('#df-2a240da2-9338-49cd-80e9-45ad8c5edf43');\n",
              "          const dataTable =\n",
              "            await google.colab.kernel.invokeFunction('convertToInteractive',\n",
              "                                                     [key], {});\n",
              "          if (!dataTable) return;\n",
              "\n",
              "          const docLinkHtml = 'Like what you see? Visit the ' +\n",
              "            '<a target=\"_blank\" href=https://colab.research.google.com/notebooks/data_table.ipynb>data table notebook</a>'\n",
              "            + ' to learn more about interactive tables.';\n",
              "          element.innerHTML = '';\n",
              "          dataTable['output_type'] = 'display_data';\n",
              "          await google.colab.output.renderOutput(dataTable, element);\n",
              "          const docLink = document.createElement('div');\n",
              "          docLink.innerHTML = docLinkHtml;\n",
              "          element.appendChild(docLink);\n",
              "        }\n",
              "      </script>\n",
              "    </div>\n",
              "  </div>\n",
              "  "
            ]
          },
          "metadata": {},
          "execution_count": 128
        }
      ]
    },
    {
      "cell_type": "code",
      "source": [
        "#storing the title from json data in the respective created dataframe\n",
        "k=0\n",
        "for i in range(18):\n",
        "  for j in range(5):\n",
        "    bt=str(data_overview[\"results\"]['lists'][i]['books'][j]['title'])\n",
        "    data['title'][k]=bt\n",
        "    k=k+1"
      ],
      "metadata": {
        "id": "Sc-FAijifbIi"
      },
      "execution_count": 129,
      "outputs": []
    },
    {
      "cell_type": "code",
      "source": [
        "data.shape"
      ],
      "metadata": {
        "colab": {
          "base_uri": "https://localhost:8080/"
        },
        "id": "f2DoH1LEfmrH",
        "outputId": "92e702fe-24e2-4102-c4b7-8eb2d175d34d"
      },
      "execution_count": 130,
      "outputs": [
        {
          "output_type": "execute_result",
          "data": {
            "text/plain": [
              "(90, 4)"
            ]
          },
          "metadata": {},
          "execution_count": 130
        }
      ]
    },
    {
      "cell_type": "code",
      "source": [
        "data.isnull().sum()"
      ],
      "metadata": {
        "colab": {
          "base_uri": "https://localhost:8080/"
        },
        "id": "RlpgVVkcfrrv",
        "outputId": "ad182666-03a9-4461-a99b-27db9bf47dd0"
      },
      "execution_count": 131,
      "outputs": [
        {
          "output_type": "execute_result",
          "data": {
            "text/plain": [
              "title           0\n",
              "author         90\n",
              "genres         90\n",
              "description    90\n",
              "dtype: int64"
            ]
          },
          "metadata": {},
          "execution_count": 131
        }
      ]
    },
    {
      "cell_type": "code",
      "source": [
        "data.head()"
      ],
      "metadata": {
        "colab": {
          "base_uri": "https://localhost:8080/",
          "height": 206
        },
        "id": "tYoVKz1Rf6qo",
        "outputId": "c753fb2d-d080-4132-ac9f-acf57ed2bd2e"
      },
      "execution_count": 132,
      "outputs": [
        {
          "output_type": "execute_result",
          "data": {
            "text/plain": [
              "                  title author genres description\n",
              "0         ONLY THE DEAD    NaN    NaN         NaN\n",
              "1           HAPPY PLACE    NaN    NaN         NaN\n",
              "2       IT ENDS WITH US    NaN    NaN         NaN\n",
              "3     IT STARTS WITH US    NaN    NaN         NaN\n",
              "4  LESSONS IN CHEMISTRY    NaN    NaN         NaN"
            ],
            "text/html": [
              "\n",
              "  <div id=\"df-6eed47ee-d086-4095-b6ad-240bc956fe17\">\n",
              "    <div class=\"colab-df-container\">\n",
              "      <div>\n",
              "<style scoped>\n",
              "    .dataframe tbody tr th:only-of-type {\n",
              "        vertical-align: middle;\n",
              "    }\n",
              "\n",
              "    .dataframe tbody tr th {\n",
              "        vertical-align: top;\n",
              "    }\n",
              "\n",
              "    .dataframe thead th {\n",
              "        text-align: right;\n",
              "    }\n",
              "</style>\n",
              "<table border=\"1\" class=\"dataframe\">\n",
              "  <thead>\n",
              "    <tr style=\"text-align: right;\">\n",
              "      <th></th>\n",
              "      <th>title</th>\n",
              "      <th>author</th>\n",
              "      <th>genres</th>\n",
              "      <th>description</th>\n",
              "    </tr>\n",
              "  </thead>\n",
              "  <tbody>\n",
              "    <tr>\n",
              "      <th>0</th>\n",
              "      <td>ONLY THE DEAD</td>\n",
              "      <td>NaN</td>\n",
              "      <td>NaN</td>\n",
              "      <td>NaN</td>\n",
              "    </tr>\n",
              "    <tr>\n",
              "      <th>1</th>\n",
              "      <td>HAPPY PLACE</td>\n",
              "      <td>NaN</td>\n",
              "      <td>NaN</td>\n",
              "      <td>NaN</td>\n",
              "    </tr>\n",
              "    <tr>\n",
              "      <th>2</th>\n",
              "      <td>IT ENDS WITH US</td>\n",
              "      <td>NaN</td>\n",
              "      <td>NaN</td>\n",
              "      <td>NaN</td>\n",
              "    </tr>\n",
              "    <tr>\n",
              "      <th>3</th>\n",
              "      <td>IT STARTS WITH US</td>\n",
              "      <td>NaN</td>\n",
              "      <td>NaN</td>\n",
              "      <td>NaN</td>\n",
              "    </tr>\n",
              "    <tr>\n",
              "      <th>4</th>\n",
              "      <td>LESSONS IN CHEMISTRY</td>\n",
              "      <td>NaN</td>\n",
              "      <td>NaN</td>\n",
              "      <td>NaN</td>\n",
              "    </tr>\n",
              "  </tbody>\n",
              "</table>\n",
              "</div>\n",
              "      <button class=\"colab-df-convert\" onclick=\"convertToInteractive('df-6eed47ee-d086-4095-b6ad-240bc956fe17')\"\n",
              "              title=\"Convert this dataframe to an interactive table.\"\n",
              "              style=\"display:none;\">\n",
              "        \n",
              "  <svg xmlns=\"http://www.w3.org/2000/svg\" height=\"24px\"viewBox=\"0 0 24 24\"\n",
              "       width=\"24px\">\n",
              "    <path d=\"M0 0h24v24H0V0z\" fill=\"none\"/>\n",
              "    <path d=\"M18.56 5.44l.94 2.06.94-2.06 2.06-.94-2.06-.94-.94-2.06-.94 2.06-2.06.94zm-11 1L8.5 8.5l.94-2.06 2.06-.94-2.06-.94L8.5 2.5l-.94 2.06-2.06.94zm10 10l.94 2.06.94-2.06 2.06-.94-2.06-.94-.94-2.06-.94 2.06-2.06.94z\"/><path d=\"M17.41 7.96l-1.37-1.37c-.4-.4-.92-.59-1.43-.59-.52 0-1.04.2-1.43.59L10.3 9.45l-7.72 7.72c-.78.78-.78 2.05 0 2.83L4 21.41c.39.39.9.59 1.41.59.51 0 1.02-.2 1.41-.59l7.78-7.78 2.81-2.81c.8-.78.8-2.07 0-2.86zM5.41 20L4 18.59l7.72-7.72 1.47 1.35L5.41 20z\"/>\n",
              "  </svg>\n",
              "      </button>\n",
              "      \n",
              "  <style>\n",
              "    .colab-df-container {\n",
              "      display:flex;\n",
              "      flex-wrap:wrap;\n",
              "      gap: 12px;\n",
              "    }\n",
              "\n",
              "    .colab-df-convert {\n",
              "      background-color: #E8F0FE;\n",
              "      border: none;\n",
              "      border-radius: 50%;\n",
              "      cursor: pointer;\n",
              "      display: none;\n",
              "      fill: #1967D2;\n",
              "      height: 32px;\n",
              "      padding: 0 0 0 0;\n",
              "      width: 32px;\n",
              "    }\n",
              "\n",
              "    .colab-df-convert:hover {\n",
              "      background-color: #E2EBFA;\n",
              "      box-shadow: 0px 1px 2px rgba(60, 64, 67, 0.3), 0px 1px 3px 1px rgba(60, 64, 67, 0.15);\n",
              "      fill: #174EA6;\n",
              "    }\n",
              "\n",
              "    [theme=dark] .colab-df-convert {\n",
              "      background-color: #3B4455;\n",
              "      fill: #D2E3FC;\n",
              "    }\n",
              "\n",
              "    [theme=dark] .colab-df-convert:hover {\n",
              "      background-color: #434B5C;\n",
              "      box-shadow: 0px 1px 3px 1px rgba(0, 0, 0, 0.15);\n",
              "      filter: drop-shadow(0px 1px 2px rgba(0, 0, 0, 0.3));\n",
              "      fill: #FFFFFF;\n",
              "    }\n",
              "  </style>\n",
              "\n",
              "      <script>\n",
              "        const buttonEl =\n",
              "          document.querySelector('#df-6eed47ee-d086-4095-b6ad-240bc956fe17 button.colab-df-convert');\n",
              "        buttonEl.style.display =\n",
              "          google.colab.kernel.accessAllowed ? 'block' : 'none';\n",
              "\n",
              "        async function convertToInteractive(key) {\n",
              "          const element = document.querySelector('#df-6eed47ee-d086-4095-b6ad-240bc956fe17');\n",
              "          const dataTable =\n",
              "            await google.colab.kernel.invokeFunction('convertToInteractive',\n",
              "                                                     [key], {});\n",
              "          if (!dataTable) return;\n",
              "\n",
              "          const docLinkHtml = 'Like what you see? Visit the ' +\n",
              "            '<a target=\"_blank\" href=https://colab.research.google.com/notebooks/data_table.ipynb>data table notebook</a>'\n",
              "            + ' to learn more about interactive tables.';\n",
              "          element.innerHTML = '';\n",
              "          dataTable['output_type'] = 'display_data';\n",
              "          await google.colab.output.renderOutput(dataTable, element);\n",
              "          const docLink = document.createElement('div');\n",
              "          docLink.innerHTML = docLinkHtml;\n",
              "          element.appendChild(docLink);\n",
              "        }\n",
              "      </script>\n",
              "    </div>\n",
              "  </div>\n",
              "  "
            ]
          },
          "metadata": {},
          "execution_count": 132
        }
      ]
    },
    {
      "cell_type": "code",
      "source": [
        "#checking for duplicates in title column\n",
        "data['title'].duplicated().any()"
      ],
      "metadata": {
        "colab": {
          "base_uri": "https://localhost:8080/"
        },
        "id": "6CeV8tJygmXC",
        "outputId": "b4d2c9eb-897e-4821-d0f5-62de26f1bd0a"
      },
      "execution_count": 133,
      "outputs": [
        {
          "output_type": "execute_result",
          "data": {
            "text/plain": [
              "True"
            ]
          },
          "metadata": {},
          "execution_count": 133
        }
      ]
    },
    {
      "cell_type": "code",
      "source": [
        "#Droping the duplicate rows\n",
        "data.drop_duplicates([\"title\"],inplace=True)"
      ],
      "metadata": {
        "id": "txuSpswwiLEk"
      },
      "execution_count": 134,
      "outputs": []
    },
    {
      "cell_type": "code",
      "source": [
        "data['title'].duplicated().any()"
      ],
      "metadata": {
        "colab": {
          "base_uri": "https://localhost:8080/"
        },
        "id": "7l6El0UDieBP",
        "outputId": "196bd231-60aa-4933-dfef-ba8e8510dae8"
      },
      "execution_count": 135,
      "outputs": [
        {
          "output_type": "execute_result",
          "data": {
            "text/plain": [
              "False"
            ]
          },
          "metadata": {},
          "execution_count": 135
        }
      ]
    },
    {
      "cell_type": "code",
      "source": [
        "data.shape"
      ],
      "metadata": {
        "colab": {
          "base_uri": "https://localhost:8080/"
        },
        "id": "JARmsNOwigip",
        "outputId": "e40e0879-3d87-45da-a174-0bf99f03741f"
      },
      "execution_count": 136,
      "outputs": [
        {
          "output_type": "execute_result",
          "data": {
            "text/plain": [
              "(74, 4)"
            ]
          },
          "metadata": {},
          "execution_count": 136
        }
      ]
    },
    {
      "cell_type": "code",
      "source": [
        "data.head(100)"
      ],
      "metadata": {
        "colab": {
          "base_uri": "https://localhost:8080/",
          "height": 423
        },
        "id": "oe2DgELlihhF",
        "outputId": "769976e7-d782-4b26-a810-a87079ac7049"
      },
      "execution_count": 137,
      "outputs": [
        {
          "output_type": "execute_result",
          "data": {
            "text/plain": [
              "                     title author genres description\n",
              "0            ONLY THE DEAD    NaN    NaN         NaN\n",
              "1              HAPPY PLACE    NaN    NaN         NaN\n",
              "2          IT ENDS WITH US    NaN    NaN         NaN\n",
              "3        IT STARTS WITH US    NaN    NaN         NaN\n",
              "4     LESSONS IN CHEMISTRY    NaN    NaN         NaN\n",
              "..                     ...    ...    ...         ...\n",
              "85  IF HE HAD BEEN WITH ME    NaN    NaN         NaN\n",
              "86          GIRL IN PIECES    NaN    NaN         NaN\n",
              "87  BETTER THAN THE MOVIES    NaN    NaN         NaN\n",
              "88    THE WAY I USED TO BE    NaN    NaN         NaN\n",
              "89      ONE OF US IS LYING    NaN    NaN         NaN\n",
              "\n",
              "[74 rows x 4 columns]"
            ],
            "text/html": [
              "\n",
              "  <div id=\"df-ce8f29b3-2f23-4383-a0fa-64ef233aaff1\">\n",
              "    <div class=\"colab-df-container\">\n",
              "      <div>\n",
              "<style scoped>\n",
              "    .dataframe tbody tr th:only-of-type {\n",
              "        vertical-align: middle;\n",
              "    }\n",
              "\n",
              "    .dataframe tbody tr th {\n",
              "        vertical-align: top;\n",
              "    }\n",
              "\n",
              "    .dataframe thead th {\n",
              "        text-align: right;\n",
              "    }\n",
              "</style>\n",
              "<table border=\"1\" class=\"dataframe\">\n",
              "  <thead>\n",
              "    <tr style=\"text-align: right;\">\n",
              "      <th></th>\n",
              "      <th>title</th>\n",
              "      <th>author</th>\n",
              "      <th>genres</th>\n",
              "      <th>description</th>\n",
              "    </tr>\n",
              "  </thead>\n",
              "  <tbody>\n",
              "    <tr>\n",
              "      <th>0</th>\n",
              "      <td>ONLY THE DEAD</td>\n",
              "      <td>NaN</td>\n",
              "      <td>NaN</td>\n",
              "      <td>NaN</td>\n",
              "    </tr>\n",
              "    <tr>\n",
              "      <th>1</th>\n",
              "      <td>HAPPY PLACE</td>\n",
              "      <td>NaN</td>\n",
              "      <td>NaN</td>\n",
              "      <td>NaN</td>\n",
              "    </tr>\n",
              "    <tr>\n",
              "      <th>2</th>\n",
              "      <td>IT ENDS WITH US</td>\n",
              "      <td>NaN</td>\n",
              "      <td>NaN</td>\n",
              "      <td>NaN</td>\n",
              "    </tr>\n",
              "    <tr>\n",
              "      <th>3</th>\n",
              "      <td>IT STARTS WITH US</td>\n",
              "      <td>NaN</td>\n",
              "      <td>NaN</td>\n",
              "      <td>NaN</td>\n",
              "    </tr>\n",
              "    <tr>\n",
              "      <th>4</th>\n",
              "      <td>LESSONS IN CHEMISTRY</td>\n",
              "      <td>NaN</td>\n",
              "      <td>NaN</td>\n",
              "      <td>NaN</td>\n",
              "    </tr>\n",
              "    <tr>\n",
              "      <th>...</th>\n",
              "      <td>...</td>\n",
              "      <td>...</td>\n",
              "      <td>...</td>\n",
              "      <td>...</td>\n",
              "    </tr>\n",
              "    <tr>\n",
              "      <th>85</th>\n",
              "      <td>IF HE HAD BEEN WITH ME</td>\n",
              "      <td>NaN</td>\n",
              "      <td>NaN</td>\n",
              "      <td>NaN</td>\n",
              "    </tr>\n",
              "    <tr>\n",
              "      <th>86</th>\n",
              "      <td>GIRL IN PIECES</td>\n",
              "      <td>NaN</td>\n",
              "      <td>NaN</td>\n",
              "      <td>NaN</td>\n",
              "    </tr>\n",
              "    <tr>\n",
              "      <th>87</th>\n",
              "      <td>BETTER THAN THE MOVIES</td>\n",
              "      <td>NaN</td>\n",
              "      <td>NaN</td>\n",
              "      <td>NaN</td>\n",
              "    </tr>\n",
              "    <tr>\n",
              "      <th>88</th>\n",
              "      <td>THE WAY I USED TO BE</td>\n",
              "      <td>NaN</td>\n",
              "      <td>NaN</td>\n",
              "      <td>NaN</td>\n",
              "    </tr>\n",
              "    <tr>\n",
              "      <th>89</th>\n",
              "      <td>ONE OF US IS LYING</td>\n",
              "      <td>NaN</td>\n",
              "      <td>NaN</td>\n",
              "      <td>NaN</td>\n",
              "    </tr>\n",
              "  </tbody>\n",
              "</table>\n",
              "<p>74 rows × 4 columns</p>\n",
              "</div>\n",
              "      <button class=\"colab-df-convert\" onclick=\"convertToInteractive('df-ce8f29b3-2f23-4383-a0fa-64ef233aaff1')\"\n",
              "              title=\"Convert this dataframe to an interactive table.\"\n",
              "              style=\"display:none;\">\n",
              "        \n",
              "  <svg xmlns=\"http://www.w3.org/2000/svg\" height=\"24px\"viewBox=\"0 0 24 24\"\n",
              "       width=\"24px\">\n",
              "    <path d=\"M0 0h24v24H0V0z\" fill=\"none\"/>\n",
              "    <path d=\"M18.56 5.44l.94 2.06.94-2.06 2.06-.94-2.06-.94-.94-2.06-.94 2.06-2.06.94zm-11 1L8.5 8.5l.94-2.06 2.06-.94-2.06-.94L8.5 2.5l-.94 2.06-2.06.94zm10 10l.94 2.06.94-2.06 2.06-.94-2.06-.94-.94-2.06-.94 2.06-2.06.94z\"/><path d=\"M17.41 7.96l-1.37-1.37c-.4-.4-.92-.59-1.43-.59-.52 0-1.04.2-1.43.59L10.3 9.45l-7.72 7.72c-.78.78-.78 2.05 0 2.83L4 21.41c.39.39.9.59 1.41.59.51 0 1.02-.2 1.41-.59l7.78-7.78 2.81-2.81c.8-.78.8-2.07 0-2.86zM5.41 20L4 18.59l7.72-7.72 1.47 1.35L5.41 20z\"/>\n",
              "  </svg>\n",
              "      </button>\n",
              "      \n",
              "  <style>\n",
              "    .colab-df-container {\n",
              "      display:flex;\n",
              "      flex-wrap:wrap;\n",
              "      gap: 12px;\n",
              "    }\n",
              "\n",
              "    .colab-df-convert {\n",
              "      background-color: #E8F0FE;\n",
              "      border: none;\n",
              "      border-radius: 50%;\n",
              "      cursor: pointer;\n",
              "      display: none;\n",
              "      fill: #1967D2;\n",
              "      height: 32px;\n",
              "      padding: 0 0 0 0;\n",
              "      width: 32px;\n",
              "    }\n",
              "\n",
              "    .colab-df-convert:hover {\n",
              "      background-color: #E2EBFA;\n",
              "      box-shadow: 0px 1px 2px rgba(60, 64, 67, 0.3), 0px 1px 3px 1px rgba(60, 64, 67, 0.15);\n",
              "      fill: #174EA6;\n",
              "    }\n",
              "\n",
              "    [theme=dark] .colab-df-convert {\n",
              "      background-color: #3B4455;\n",
              "      fill: #D2E3FC;\n",
              "    }\n",
              "\n",
              "    [theme=dark] .colab-df-convert:hover {\n",
              "      background-color: #434B5C;\n",
              "      box-shadow: 0px 1px 3px 1px rgba(0, 0, 0, 0.15);\n",
              "      filter: drop-shadow(0px 1px 2px rgba(0, 0, 0, 0.3));\n",
              "      fill: #FFFFFF;\n",
              "    }\n",
              "  </style>\n",
              "\n",
              "      <script>\n",
              "        const buttonEl =\n",
              "          document.querySelector('#df-ce8f29b3-2f23-4383-a0fa-64ef233aaff1 button.colab-df-convert');\n",
              "        buttonEl.style.display =\n",
              "          google.colab.kernel.accessAllowed ? 'block' : 'none';\n",
              "\n",
              "        async function convertToInteractive(key) {\n",
              "          const element = document.querySelector('#df-ce8f29b3-2f23-4383-a0fa-64ef233aaff1');\n",
              "          const dataTable =\n",
              "            await google.colab.kernel.invokeFunction('convertToInteractive',\n",
              "                                                     [key], {});\n",
              "          if (!dataTable) return;\n",
              "\n",
              "          const docLinkHtml = 'Like what you see? Visit the ' +\n",
              "            '<a target=\"_blank\" href=https://colab.research.google.com/notebooks/data_table.ipynb>data table notebook</a>'\n",
              "            + ' to learn more about interactive tables.';\n",
              "          element.innerHTML = '';\n",
              "          dataTable['output_type'] = 'display_data';\n",
              "          await google.colab.output.renderOutput(dataTable, element);\n",
              "          const docLink = document.createElement('div');\n",
              "          docLink.innerHTML = docLinkHtml;\n",
              "          element.appendChild(docLink);\n",
              "        }\n",
              "      </script>\n",
              "    </div>\n",
              "  </div>\n",
              "  "
            ]
          },
          "metadata": {},
          "execution_count": 137
        }
      ]
    },
    {
      "cell_type": "code",
      "source": [
        "#to reset indices after droping duplicates \n",
        "data.reset_index(inplace=True)"
      ],
      "metadata": {
        "id": "dDFz2JCEpeHE"
      },
      "execution_count": 138,
      "outputs": []
    },
    {
      "cell_type": "code",
      "source": [
        "#to change the titles in the form to pass into google books server to extract the information about other features\n",
        "def gsearch(book):\n",
        "  a=book.split()\n",
        "  if len(a)==1:\n",
        "    return(a[0])\n",
        "  else:\n",
        "    abc=\"\"\n",
        "    for i in a:\n",
        "      abc=abc+i+\"+\"\n",
        "    return(abc[0:len(abc)-1])"
      ],
      "metadata": {
        "id": "S30XF_eZijQz"
      },
      "execution_count": 139,
      "outputs": []
    },
    {
      "cell_type": "code",
      "source": [
        "data[\"title_gs\"]=data['title'].apply(gsearch)"
      ],
      "metadata": {
        "id": "phpxBxcBjDD2"
      },
      "execution_count": 140,
      "outputs": []
    },
    {
      "cell_type": "code",
      "source": [
        "data.head()"
      ],
      "metadata": {
        "colab": {
          "base_uri": "https://localhost:8080/",
          "height": 206
        },
        "id": "Jj6rfOZkjHhX",
        "outputId": "bc5ba984-cd5b-4db7-9c5a-728088828a99"
      },
      "execution_count": 141,
      "outputs": [
        {
          "output_type": "execute_result",
          "data": {
            "text/plain": [
              "   index                 title author genres description              title_gs\n",
              "0      0         ONLY THE DEAD    NaN    NaN         NaN         ONLY+THE+DEAD\n",
              "1      1           HAPPY PLACE    NaN    NaN         NaN           HAPPY+PLACE\n",
              "2      2       IT ENDS WITH US    NaN    NaN         NaN       IT+ENDS+WITH+US\n",
              "3      3     IT STARTS WITH US    NaN    NaN         NaN     IT+STARTS+WITH+US\n",
              "4      4  LESSONS IN CHEMISTRY    NaN    NaN         NaN  LESSONS+IN+CHEMISTRY"
            ],
            "text/html": [
              "\n",
              "  <div id=\"df-ee26ace5-2b06-4f2a-9dbd-af515419aac5\">\n",
              "    <div class=\"colab-df-container\">\n",
              "      <div>\n",
              "<style scoped>\n",
              "    .dataframe tbody tr th:only-of-type {\n",
              "        vertical-align: middle;\n",
              "    }\n",
              "\n",
              "    .dataframe tbody tr th {\n",
              "        vertical-align: top;\n",
              "    }\n",
              "\n",
              "    .dataframe thead th {\n",
              "        text-align: right;\n",
              "    }\n",
              "</style>\n",
              "<table border=\"1\" class=\"dataframe\">\n",
              "  <thead>\n",
              "    <tr style=\"text-align: right;\">\n",
              "      <th></th>\n",
              "      <th>index</th>\n",
              "      <th>title</th>\n",
              "      <th>author</th>\n",
              "      <th>genres</th>\n",
              "      <th>description</th>\n",
              "      <th>title_gs</th>\n",
              "    </tr>\n",
              "  </thead>\n",
              "  <tbody>\n",
              "    <tr>\n",
              "      <th>0</th>\n",
              "      <td>0</td>\n",
              "      <td>ONLY THE DEAD</td>\n",
              "      <td>NaN</td>\n",
              "      <td>NaN</td>\n",
              "      <td>NaN</td>\n",
              "      <td>ONLY+THE+DEAD</td>\n",
              "    </tr>\n",
              "    <tr>\n",
              "      <th>1</th>\n",
              "      <td>1</td>\n",
              "      <td>HAPPY PLACE</td>\n",
              "      <td>NaN</td>\n",
              "      <td>NaN</td>\n",
              "      <td>NaN</td>\n",
              "      <td>HAPPY+PLACE</td>\n",
              "    </tr>\n",
              "    <tr>\n",
              "      <th>2</th>\n",
              "      <td>2</td>\n",
              "      <td>IT ENDS WITH US</td>\n",
              "      <td>NaN</td>\n",
              "      <td>NaN</td>\n",
              "      <td>NaN</td>\n",
              "      <td>IT+ENDS+WITH+US</td>\n",
              "    </tr>\n",
              "    <tr>\n",
              "      <th>3</th>\n",
              "      <td>3</td>\n",
              "      <td>IT STARTS WITH US</td>\n",
              "      <td>NaN</td>\n",
              "      <td>NaN</td>\n",
              "      <td>NaN</td>\n",
              "      <td>IT+STARTS+WITH+US</td>\n",
              "    </tr>\n",
              "    <tr>\n",
              "      <th>4</th>\n",
              "      <td>4</td>\n",
              "      <td>LESSONS IN CHEMISTRY</td>\n",
              "      <td>NaN</td>\n",
              "      <td>NaN</td>\n",
              "      <td>NaN</td>\n",
              "      <td>LESSONS+IN+CHEMISTRY</td>\n",
              "    </tr>\n",
              "  </tbody>\n",
              "</table>\n",
              "</div>\n",
              "      <button class=\"colab-df-convert\" onclick=\"convertToInteractive('df-ee26ace5-2b06-4f2a-9dbd-af515419aac5')\"\n",
              "              title=\"Convert this dataframe to an interactive table.\"\n",
              "              style=\"display:none;\">\n",
              "        \n",
              "  <svg xmlns=\"http://www.w3.org/2000/svg\" height=\"24px\"viewBox=\"0 0 24 24\"\n",
              "       width=\"24px\">\n",
              "    <path d=\"M0 0h24v24H0V0z\" fill=\"none\"/>\n",
              "    <path d=\"M18.56 5.44l.94 2.06.94-2.06 2.06-.94-2.06-.94-.94-2.06-.94 2.06-2.06.94zm-11 1L8.5 8.5l.94-2.06 2.06-.94-2.06-.94L8.5 2.5l-.94 2.06-2.06.94zm10 10l.94 2.06.94-2.06 2.06-.94-2.06-.94-.94-2.06-.94 2.06-2.06.94z\"/><path d=\"M17.41 7.96l-1.37-1.37c-.4-.4-.92-.59-1.43-.59-.52 0-1.04.2-1.43.59L10.3 9.45l-7.72 7.72c-.78.78-.78 2.05 0 2.83L4 21.41c.39.39.9.59 1.41.59.51 0 1.02-.2 1.41-.59l7.78-7.78 2.81-2.81c.8-.78.8-2.07 0-2.86zM5.41 20L4 18.59l7.72-7.72 1.47 1.35L5.41 20z\"/>\n",
              "  </svg>\n",
              "      </button>\n",
              "      \n",
              "  <style>\n",
              "    .colab-df-container {\n",
              "      display:flex;\n",
              "      flex-wrap:wrap;\n",
              "      gap: 12px;\n",
              "    }\n",
              "\n",
              "    .colab-df-convert {\n",
              "      background-color: #E8F0FE;\n",
              "      border: none;\n",
              "      border-radius: 50%;\n",
              "      cursor: pointer;\n",
              "      display: none;\n",
              "      fill: #1967D2;\n",
              "      height: 32px;\n",
              "      padding: 0 0 0 0;\n",
              "      width: 32px;\n",
              "    }\n",
              "\n",
              "    .colab-df-convert:hover {\n",
              "      background-color: #E2EBFA;\n",
              "      box-shadow: 0px 1px 2px rgba(60, 64, 67, 0.3), 0px 1px 3px 1px rgba(60, 64, 67, 0.15);\n",
              "      fill: #174EA6;\n",
              "    }\n",
              "\n",
              "    [theme=dark] .colab-df-convert {\n",
              "      background-color: #3B4455;\n",
              "      fill: #D2E3FC;\n",
              "    }\n",
              "\n",
              "    [theme=dark] .colab-df-convert:hover {\n",
              "      background-color: #434B5C;\n",
              "      box-shadow: 0px 1px 3px 1px rgba(0, 0, 0, 0.15);\n",
              "      filter: drop-shadow(0px 1px 2px rgba(0, 0, 0, 0.3));\n",
              "      fill: #FFFFFF;\n",
              "    }\n",
              "  </style>\n",
              "\n",
              "      <script>\n",
              "        const buttonEl =\n",
              "          document.querySelector('#df-ee26ace5-2b06-4f2a-9dbd-af515419aac5 button.colab-df-convert');\n",
              "        buttonEl.style.display =\n",
              "          google.colab.kernel.accessAllowed ? 'block' : 'none';\n",
              "\n",
              "        async function convertToInteractive(key) {\n",
              "          const element = document.querySelector('#df-ee26ace5-2b06-4f2a-9dbd-af515419aac5');\n",
              "          const dataTable =\n",
              "            await google.colab.kernel.invokeFunction('convertToInteractive',\n",
              "                                                     [key], {});\n",
              "          if (!dataTable) return;\n",
              "\n",
              "          const docLinkHtml = 'Like what you see? Visit the ' +\n",
              "            '<a target=\"_blank\" href=https://colab.research.google.com/notebooks/data_table.ipynb>data table notebook</a>'\n",
              "            + ' to learn more about interactive tables.';\n",
              "          element.innerHTML = '';\n",
              "          dataTable['output_type'] = 'display_data';\n",
              "          await google.colab.output.renderOutput(dataTable, element);\n",
              "          const docLink = document.createElement('div');\n",
              "          docLink.innerHTML = docLinkHtml;\n",
              "          element.appendChild(docLink);\n",
              "        }\n",
              "      </script>\n",
              "    </div>\n",
              "  </div>\n",
              "  "
            ]
          },
          "metadata": {},
          "execution_count": 141
        }
      ]
    },
    {
      "cell_type": "code",
      "source": [
        "#add the column for book img links\n",
        "data['img']=np.nan"
      ],
      "metadata": {
        "id": "feZT19TOjrJy"
      },
      "execution_count": 142,
      "outputs": []
    },
    {
      "cell_type": "code",
      "source": [
        "data.head()"
      ],
      "metadata": {
        "colab": {
          "base_uri": "https://localhost:8080/",
          "height": 206
        },
        "id": "j_YVVZRjjzHc",
        "outputId": "8a7789d2-4785-4d35-b76f-3f492beedb5c"
      },
      "execution_count": 143,
      "outputs": [
        {
          "output_type": "execute_result",
          "data": {
            "text/plain": [
              "   index                 title author genres description  \\\n",
              "0      0         ONLY THE DEAD    NaN    NaN         NaN   \n",
              "1      1           HAPPY PLACE    NaN    NaN         NaN   \n",
              "2      2       IT ENDS WITH US    NaN    NaN         NaN   \n",
              "3      3     IT STARTS WITH US    NaN    NaN         NaN   \n",
              "4      4  LESSONS IN CHEMISTRY    NaN    NaN         NaN   \n",
              "\n",
              "               title_gs  img  \n",
              "0         ONLY+THE+DEAD  NaN  \n",
              "1           HAPPY+PLACE  NaN  \n",
              "2       IT+ENDS+WITH+US  NaN  \n",
              "3     IT+STARTS+WITH+US  NaN  \n",
              "4  LESSONS+IN+CHEMISTRY  NaN  "
            ],
            "text/html": [
              "\n",
              "  <div id=\"df-e545ff25-2eb3-4c47-a689-59ed8eeae2a2\">\n",
              "    <div class=\"colab-df-container\">\n",
              "      <div>\n",
              "<style scoped>\n",
              "    .dataframe tbody tr th:only-of-type {\n",
              "        vertical-align: middle;\n",
              "    }\n",
              "\n",
              "    .dataframe tbody tr th {\n",
              "        vertical-align: top;\n",
              "    }\n",
              "\n",
              "    .dataframe thead th {\n",
              "        text-align: right;\n",
              "    }\n",
              "</style>\n",
              "<table border=\"1\" class=\"dataframe\">\n",
              "  <thead>\n",
              "    <tr style=\"text-align: right;\">\n",
              "      <th></th>\n",
              "      <th>index</th>\n",
              "      <th>title</th>\n",
              "      <th>author</th>\n",
              "      <th>genres</th>\n",
              "      <th>description</th>\n",
              "      <th>title_gs</th>\n",
              "      <th>img</th>\n",
              "    </tr>\n",
              "  </thead>\n",
              "  <tbody>\n",
              "    <tr>\n",
              "      <th>0</th>\n",
              "      <td>0</td>\n",
              "      <td>ONLY THE DEAD</td>\n",
              "      <td>NaN</td>\n",
              "      <td>NaN</td>\n",
              "      <td>NaN</td>\n",
              "      <td>ONLY+THE+DEAD</td>\n",
              "      <td>NaN</td>\n",
              "    </tr>\n",
              "    <tr>\n",
              "      <th>1</th>\n",
              "      <td>1</td>\n",
              "      <td>HAPPY PLACE</td>\n",
              "      <td>NaN</td>\n",
              "      <td>NaN</td>\n",
              "      <td>NaN</td>\n",
              "      <td>HAPPY+PLACE</td>\n",
              "      <td>NaN</td>\n",
              "    </tr>\n",
              "    <tr>\n",
              "      <th>2</th>\n",
              "      <td>2</td>\n",
              "      <td>IT ENDS WITH US</td>\n",
              "      <td>NaN</td>\n",
              "      <td>NaN</td>\n",
              "      <td>NaN</td>\n",
              "      <td>IT+ENDS+WITH+US</td>\n",
              "      <td>NaN</td>\n",
              "    </tr>\n",
              "    <tr>\n",
              "      <th>3</th>\n",
              "      <td>3</td>\n",
              "      <td>IT STARTS WITH US</td>\n",
              "      <td>NaN</td>\n",
              "      <td>NaN</td>\n",
              "      <td>NaN</td>\n",
              "      <td>IT+STARTS+WITH+US</td>\n",
              "      <td>NaN</td>\n",
              "    </tr>\n",
              "    <tr>\n",
              "      <th>4</th>\n",
              "      <td>4</td>\n",
              "      <td>LESSONS IN CHEMISTRY</td>\n",
              "      <td>NaN</td>\n",
              "      <td>NaN</td>\n",
              "      <td>NaN</td>\n",
              "      <td>LESSONS+IN+CHEMISTRY</td>\n",
              "      <td>NaN</td>\n",
              "    </tr>\n",
              "  </tbody>\n",
              "</table>\n",
              "</div>\n",
              "      <button class=\"colab-df-convert\" onclick=\"convertToInteractive('df-e545ff25-2eb3-4c47-a689-59ed8eeae2a2')\"\n",
              "              title=\"Convert this dataframe to an interactive table.\"\n",
              "              style=\"display:none;\">\n",
              "        \n",
              "  <svg xmlns=\"http://www.w3.org/2000/svg\" height=\"24px\"viewBox=\"0 0 24 24\"\n",
              "       width=\"24px\">\n",
              "    <path d=\"M0 0h24v24H0V0z\" fill=\"none\"/>\n",
              "    <path d=\"M18.56 5.44l.94 2.06.94-2.06 2.06-.94-2.06-.94-.94-2.06-.94 2.06-2.06.94zm-11 1L8.5 8.5l.94-2.06 2.06-.94-2.06-.94L8.5 2.5l-.94 2.06-2.06.94zm10 10l.94 2.06.94-2.06 2.06-.94-2.06-.94-.94-2.06-.94 2.06-2.06.94z\"/><path d=\"M17.41 7.96l-1.37-1.37c-.4-.4-.92-.59-1.43-.59-.52 0-1.04.2-1.43.59L10.3 9.45l-7.72 7.72c-.78.78-.78 2.05 0 2.83L4 21.41c.39.39.9.59 1.41.59.51 0 1.02-.2 1.41-.59l7.78-7.78 2.81-2.81c.8-.78.8-2.07 0-2.86zM5.41 20L4 18.59l7.72-7.72 1.47 1.35L5.41 20z\"/>\n",
              "  </svg>\n",
              "      </button>\n",
              "      \n",
              "  <style>\n",
              "    .colab-df-container {\n",
              "      display:flex;\n",
              "      flex-wrap:wrap;\n",
              "      gap: 12px;\n",
              "    }\n",
              "\n",
              "    .colab-df-convert {\n",
              "      background-color: #E8F0FE;\n",
              "      border: none;\n",
              "      border-radius: 50%;\n",
              "      cursor: pointer;\n",
              "      display: none;\n",
              "      fill: #1967D2;\n",
              "      height: 32px;\n",
              "      padding: 0 0 0 0;\n",
              "      width: 32px;\n",
              "    }\n",
              "\n",
              "    .colab-df-convert:hover {\n",
              "      background-color: #E2EBFA;\n",
              "      box-shadow: 0px 1px 2px rgba(60, 64, 67, 0.3), 0px 1px 3px 1px rgba(60, 64, 67, 0.15);\n",
              "      fill: #174EA6;\n",
              "    }\n",
              "\n",
              "    [theme=dark] .colab-df-convert {\n",
              "      background-color: #3B4455;\n",
              "      fill: #D2E3FC;\n",
              "    }\n",
              "\n",
              "    [theme=dark] .colab-df-convert:hover {\n",
              "      background-color: #434B5C;\n",
              "      box-shadow: 0px 1px 3px 1px rgba(0, 0, 0, 0.15);\n",
              "      filter: drop-shadow(0px 1px 2px rgba(0, 0, 0, 0.3));\n",
              "      fill: #FFFFFF;\n",
              "    }\n",
              "  </style>\n",
              "\n",
              "      <script>\n",
              "        const buttonEl =\n",
              "          document.querySelector('#df-e545ff25-2eb3-4c47-a689-59ed8eeae2a2 button.colab-df-convert');\n",
              "        buttonEl.style.display =\n",
              "          google.colab.kernel.accessAllowed ? 'block' : 'none';\n",
              "\n",
              "        async function convertToInteractive(key) {\n",
              "          const element = document.querySelector('#df-e545ff25-2eb3-4c47-a689-59ed8eeae2a2');\n",
              "          const dataTable =\n",
              "            await google.colab.kernel.invokeFunction('convertToInteractive',\n",
              "                                                     [key], {});\n",
              "          if (!dataTable) return;\n",
              "\n",
              "          const docLinkHtml = 'Like what you see? Visit the ' +\n",
              "            '<a target=\"_blank\" href=https://colab.research.google.com/notebooks/data_table.ipynb>data table notebook</a>'\n",
              "            + ' to learn more about interactive tables.';\n",
              "          element.innerHTML = '';\n",
              "          dataTable['output_type'] = 'display_data';\n",
              "          await google.colab.output.renderOutput(dataTable, element);\n",
              "          const docLink = document.createElement('div');\n",
              "          docLink.innerHTML = docLinkHtml;\n",
              "          element.appendChild(docLink);\n",
              "        }\n",
              "      </script>\n",
              "    </div>\n",
              "  </div>\n",
              "  "
            ]
          },
          "metadata": {},
          "execution_count": 143
        }
      ]
    },
    {
      "cell_type": "code",
      "source": [
        "import requests\n",
        "j=0\n",
        "for i in data['title_gs']:\n",
        "    data_id=requests.get(\"https://www.googleapis.com/books/v1/volumes?q=\"+i).json()\n",
        "    try:\n",
        "      btt=str(data_id['items'][0]['volumeInfo']['title'])\n",
        "      ba=str(data_id['items'][0]['volumeInfo']['authors'][0])\n",
        "      data['title'][j]=btt\n",
        "      data['author'][j]=ba\n",
        "      data['img'][j]=data_id['items'][0]['volumeInfo']['imageLinks']['thumbnail']\n",
        "    except:\n",
        "      pass\n",
        "    try:\n",
        "      desc=str(data_id['items'][0]['volumeInfo']['description'])\n",
        "      data[\"description\"][j]=desc\n",
        "    except:\n",
        "      pass\n",
        "    try:\n",
        "      data[\"genres\"][j]=str(data_id['items'][0]['volumeInfo']['categories'][0])\n",
        "    except:\n",
        "      data[\"genres\"][j]=\" \"\n",
        " \n",
        "    j=j+1\n"
      ],
      "metadata": {
        "id": "wrgfuV-tjK_z"
      },
      "execution_count": 144,
      "outputs": []
    },
    {
      "cell_type": "code",
      "source": [
        "data.head()"
      ],
      "metadata": {
        "colab": {
          "base_uri": "https://localhost:8080/",
          "height": 337
        },
        "id": "bT6guNTojYzk",
        "outputId": "14e3b6e2-a50d-4f43-a51f-763a18c13b6c"
      },
      "execution_count": 145,
      "outputs": [
        {
          "output_type": "execute_result",
          "data": {
            "text/plain": [
              "   index                 title               author             genres  \\\n",
              "0      0         Only the Dead  Bear F. Braumoeller  POLITICAL SCIENCE   \n",
              "1      1           Happy Place          Emily Henry            Fiction   \n",
              "2      2     It Starts with Us       Colleen Hoover            Fiction   \n",
              "3      3     It Starts with Us       Colleen Hoover            Fiction   \n",
              "4      4  Lessons in Chemistry        Bonnie Garmus            Fiction   \n",
              "\n",
              "                                         description              title_gs  \\\n",
              "0  The idea that war is going out of style has be...         ONLY+THE+DEAD   \n",
              "1  Harriet and Wyn are the perfect couple - they ...           HAPPY+PLACE   \n",
              "2  Lily and her ex-husband, Ryle, have just settl...       IT+ENDS+WITH+US   \n",
              "3  Lily and her ex-husband, Ryle, have just settl...     IT+STARTS+WITH+US   \n",
              "4  As read on BBC Radio 4 Book at Bedtime THE #1 ...  LESSONS+IN+CHEMISTRY   \n",
              "\n",
              "                                                 img  \n",
              "0  http://books.google.com/books/content?id=viaeD...  \n",
              "1  http://books.google.com/books/content?id=-AxSz...  \n",
              "2  http://books.google.com/books/content?id=CMeVE...  \n",
              "3  http://books.google.com/books/content?id=CMeVE...  \n",
              "4  http://books.google.com/books/content?id=G2U4E...  "
            ],
            "text/html": [
              "\n",
              "  <div id=\"df-c5a8e4af-edb9-4d84-b072-a4343cc6d3a8\">\n",
              "    <div class=\"colab-df-container\">\n",
              "      <div>\n",
              "<style scoped>\n",
              "    .dataframe tbody tr th:only-of-type {\n",
              "        vertical-align: middle;\n",
              "    }\n",
              "\n",
              "    .dataframe tbody tr th {\n",
              "        vertical-align: top;\n",
              "    }\n",
              "\n",
              "    .dataframe thead th {\n",
              "        text-align: right;\n",
              "    }\n",
              "</style>\n",
              "<table border=\"1\" class=\"dataframe\">\n",
              "  <thead>\n",
              "    <tr style=\"text-align: right;\">\n",
              "      <th></th>\n",
              "      <th>index</th>\n",
              "      <th>title</th>\n",
              "      <th>author</th>\n",
              "      <th>genres</th>\n",
              "      <th>description</th>\n",
              "      <th>title_gs</th>\n",
              "      <th>img</th>\n",
              "    </tr>\n",
              "  </thead>\n",
              "  <tbody>\n",
              "    <tr>\n",
              "      <th>0</th>\n",
              "      <td>0</td>\n",
              "      <td>Only the Dead</td>\n",
              "      <td>Bear F. Braumoeller</td>\n",
              "      <td>POLITICAL SCIENCE</td>\n",
              "      <td>The idea that war is going out of style has be...</td>\n",
              "      <td>ONLY+THE+DEAD</td>\n",
              "      <td>http://books.google.com/books/content?id=viaeD...</td>\n",
              "    </tr>\n",
              "    <tr>\n",
              "      <th>1</th>\n",
              "      <td>1</td>\n",
              "      <td>Happy Place</td>\n",
              "      <td>Emily Henry</td>\n",
              "      <td>Fiction</td>\n",
              "      <td>Harriet and Wyn are the perfect couple - they ...</td>\n",
              "      <td>HAPPY+PLACE</td>\n",
              "      <td>http://books.google.com/books/content?id=-AxSz...</td>\n",
              "    </tr>\n",
              "    <tr>\n",
              "      <th>2</th>\n",
              "      <td>2</td>\n",
              "      <td>It Starts with Us</td>\n",
              "      <td>Colleen Hoover</td>\n",
              "      <td>Fiction</td>\n",
              "      <td>Lily and her ex-husband, Ryle, have just settl...</td>\n",
              "      <td>IT+ENDS+WITH+US</td>\n",
              "      <td>http://books.google.com/books/content?id=CMeVE...</td>\n",
              "    </tr>\n",
              "    <tr>\n",
              "      <th>3</th>\n",
              "      <td>3</td>\n",
              "      <td>It Starts with Us</td>\n",
              "      <td>Colleen Hoover</td>\n",
              "      <td>Fiction</td>\n",
              "      <td>Lily and her ex-husband, Ryle, have just settl...</td>\n",
              "      <td>IT+STARTS+WITH+US</td>\n",
              "      <td>http://books.google.com/books/content?id=CMeVE...</td>\n",
              "    </tr>\n",
              "    <tr>\n",
              "      <th>4</th>\n",
              "      <td>4</td>\n",
              "      <td>Lessons in Chemistry</td>\n",
              "      <td>Bonnie Garmus</td>\n",
              "      <td>Fiction</td>\n",
              "      <td>As read on BBC Radio 4 Book at Bedtime THE #1 ...</td>\n",
              "      <td>LESSONS+IN+CHEMISTRY</td>\n",
              "      <td>http://books.google.com/books/content?id=G2U4E...</td>\n",
              "    </tr>\n",
              "  </tbody>\n",
              "</table>\n",
              "</div>\n",
              "      <button class=\"colab-df-convert\" onclick=\"convertToInteractive('df-c5a8e4af-edb9-4d84-b072-a4343cc6d3a8')\"\n",
              "              title=\"Convert this dataframe to an interactive table.\"\n",
              "              style=\"display:none;\">\n",
              "        \n",
              "  <svg xmlns=\"http://www.w3.org/2000/svg\" height=\"24px\"viewBox=\"0 0 24 24\"\n",
              "       width=\"24px\">\n",
              "    <path d=\"M0 0h24v24H0V0z\" fill=\"none\"/>\n",
              "    <path d=\"M18.56 5.44l.94 2.06.94-2.06 2.06-.94-2.06-.94-.94-2.06-.94 2.06-2.06.94zm-11 1L8.5 8.5l.94-2.06 2.06-.94-2.06-.94L8.5 2.5l-.94 2.06-2.06.94zm10 10l.94 2.06.94-2.06 2.06-.94-2.06-.94-.94-2.06-.94 2.06-2.06.94z\"/><path d=\"M17.41 7.96l-1.37-1.37c-.4-.4-.92-.59-1.43-.59-.52 0-1.04.2-1.43.59L10.3 9.45l-7.72 7.72c-.78.78-.78 2.05 0 2.83L4 21.41c.39.39.9.59 1.41.59.51 0 1.02-.2 1.41-.59l7.78-7.78 2.81-2.81c.8-.78.8-2.07 0-2.86zM5.41 20L4 18.59l7.72-7.72 1.47 1.35L5.41 20z\"/>\n",
              "  </svg>\n",
              "      </button>\n",
              "      \n",
              "  <style>\n",
              "    .colab-df-container {\n",
              "      display:flex;\n",
              "      flex-wrap:wrap;\n",
              "      gap: 12px;\n",
              "    }\n",
              "\n",
              "    .colab-df-convert {\n",
              "      background-color: #E8F0FE;\n",
              "      border: none;\n",
              "      border-radius: 50%;\n",
              "      cursor: pointer;\n",
              "      display: none;\n",
              "      fill: #1967D2;\n",
              "      height: 32px;\n",
              "      padding: 0 0 0 0;\n",
              "      width: 32px;\n",
              "    }\n",
              "\n",
              "    .colab-df-convert:hover {\n",
              "      background-color: #E2EBFA;\n",
              "      box-shadow: 0px 1px 2px rgba(60, 64, 67, 0.3), 0px 1px 3px 1px rgba(60, 64, 67, 0.15);\n",
              "      fill: #174EA6;\n",
              "    }\n",
              "\n",
              "    [theme=dark] .colab-df-convert {\n",
              "      background-color: #3B4455;\n",
              "      fill: #D2E3FC;\n",
              "    }\n",
              "\n",
              "    [theme=dark] .colab-df-convert:hover {\n",
              "      background-color: #434B5C;\n",
              "      box-shadow: 0px 1px 3px 1px rgba(0, 0, 0, 0.15);\n",
              "      filter: drop-shadow(0px 1px 2px rgba(0, 0, 0, 0.3));\n",
              "      fill: #FFFFFF;\n",
              "    }\n",
              "  </style>\n",
              "\n",
              "      <script>\n",
              "        const buttonEl =\n",
              "          document.querySelector('#df-c5a8e4af-edb9-4d84-b072-a4343cc6d3a8 button.colab-df-convert');\n",
              "        buttonEl.style.display =\n",
              "          google.colab.kernel.accessAllowed ? 'block' : 'none';\n",
              "\n",
              "        async function convertToInteractive(key) {\n",
              "          const element = document.querySelector('#df-c5a8e4af-edb9-4d84-b072-a4343cc6d3a8');\n",
              "          const dataTable =\n",
              "            await google.colab.kernel.invokeFunction('convertToInteractive',\n",
              "                                                     [key], {});\n",
              "          if (!dataTable) return;\n",
              "\n",
              "          const docLinkHtml = 'Like what you see? Visit the ' +\n",
              "            '<a target=\"_blank\" href=https://colab.research.google.com/notebooks/data_table.ipynb>data table notebook</a>'\n",
              "            + ' to learn more about interactive tables.';\n",
              "          element.innerHTML = '';\n",
              "          dataTable['output_type'] = 'display_data';\n",
              "          await google.colab.output.renderOutput(dataTable, element);\n",
              "          const docLink = document.createElement('div');\n",
              "          docLink.innerHTML = docLinkHtml;\n",
              "          element.appendChild(docLink);\n",
              "        }\n",
              "      </script>\n",
              "    </div>\n",
              "  </div>\n",
              "  "
            ]
          },
          "metadata": {},
          "execution_count": 145
        }
      ]
    },
    {
      "cell_type": "code",
      "source": [
        "data.isnull().sum()"
      ],
      "metadata": {
        "colab": {
          "base_uri": "https://localhost:8080/"
        },
        "id": "0DfEXac3jndp",
        "outputId": "6f4ebf55-8de2-4387-df97-47407d5d14e1"
      },
      "execution_count": 146,
      "outputs": [
        {
          "output_type": "execute_result",
          "data": {
            "text/plain": [
              "index          0\n",
              "title          0\n",
              "author         0\n",
              "genres         0\n",
              "description    1\n",
              "title_gs       0\n",
              "img            1\n",
              "dtype: int64"
            ]
          },
          "metadata": {},
          "execution_count": 146
        }
      ]
    },
    {
      "cell_type": "code",
      "source": [
        "data.dropna(inplace=True)"
      ],
      "metadata": {
        "id": "x_F7EJxnkJe0"
      },
      "execution_count": 147,
      "outputs": []
    },
    {
      "cell_type": "code",
      "source": [
        "data.shape"
      ],
      "metadata": {
        "colab": {
          "base_uri": "https://localhost:8080/"
        },
        "id": "tFaoqZ2SkRfW",
        "outputId": "d3959893-22ac-4c0b-ff80-73ab91239bc5"
      },
      "execution_count": 148,
      "outputs": [
        {
          "output_type": "execute_result",
          "data": {
            "text/plain": [
              "(72, 7)"
            ]
          },
          "metadata": {},
          "execution_count": 148
        }
      ]
    },
    {
      "cell_type": "code",
      "source": [
        "data.head()"
      ],
      "metadata": {
        "colab": {
          "base_uri": "https://localhost:8080/",
          "height": 337
        },
        "id": "NPmrsa-ulRsZ",
        "outputId": "05f8be43-df3c-40a8-d3e3-52c338c6a217"
      },
      "execution_count": 149,
      "outputs": [
        {
          "output_type": "execute_result",
          "data": {
            "text/plain": [
              "   index                 title               author             genres  \\\n",
              "0      0         Only the Dead  Bear F. Braumoeller  POLITICAL SCIENCE   \n",
              "1      1           Happy Place          Emily Henry            Fiction   \n",
              "2      2     It Starts with Us       Colleen Hoover            Fiction   \n",
              "3      3     It Starts with Us       Colleen Hoover            Fiction   \n",
              "4      4  Lessons in Chemistry        Bonnie Garmus            Fiction   \n",
              "\n",
              "                                         description              title_gs  \\\n",
              "0  The idea that war is going out of style has be...         ONLY+THE+DEAD   \n",
              "1  Harriet and Wyn are the perfect couple - they ...           HAPPY+PLACE   \n",
              "2  Lily and her ex-husband, Ryle, have just settl...       IT+ENDS+WITH+US   \n",
              "3  Lily and her ex-husband, Ryle, have just settl...     IT+STARTS+WITH+US   \n",
              "4  As read on BBC Radio 4 Book at Bedtime THE #1 ...  LESSONS+IN+CHEMISTRY   \n",
              "\n",
              "                                                 img  \n",
              "0  http://books.google.com/books/content?id=viaeD...  \n",
              "1  http://books.google.com/books/content?id=-AxSz...  \n",
              "2  http://books.google.com/books/content?id=CMeVE...  \n",
              "3  http://books.google.com/books/content?id=CMeVE...  \n",
              "4  http://books.google.com/books/content?id=G2U4E...  "
            ],
            "text/html": [
              "\n",
              "  <div id=\"df-53da3799-a552-4f37-8f3e-468c51c08e90\">\n",
              "    <div class=\"colab-df-container\">\n",
              "      <div>\n",
              "<style scoped>\n",
              "    .dataframe tbody tr th:only-of-type {\n",
              "        vertical-align: middle;\n",
              "    }\n",
              "\n",
              "    .dataframe tbody tr th {\n",
              "        vertical-align: top;\n",
              "    }\n",
              "\n",
              "    .dataframe thead th {\n",
              "        text-align: right;\n",
              "    }\n",
              "</style>\n",
              "<table border=\"1\" class=\"dataframe\">\n",
              "  <thead>\n",
              "    <tr style=\"text-align: right;\">\n",
              "      <th></th>\n",
              "      <th>index</th>\n",
              "      <th>title</th>\n",
              "      <th>author</th>\n",
              "      <th>genres</th>\n",
              "      <th>description</th>\n",
              "      <th>title_gs</th>\n",
              "      <th>img</th>\n",
              "    </tr>\n",
              "  </thead>\n",
              "  <tbody>\n",
              "    <tr>\n",
              "      <th>0</th>\n",
              "      <td>0</td>\n",
              "      <td>Only the Dead</td>\n",
              "      <td>Bear F. Braumoeller</td>\n",
              "      <td>POLITICAL SCIENCE</td>\n",
              "      <td>The idea that war is going out of style has be...</td>\n",
              "      <td>ONLY+THE+DEAD</td>\n",
              "      <td>http://books.google.com/books/content?id=viaeD...</td>\n",
              "    </tr>\n",
              "    <tr>\n",
              "      <th>1</th>\n",
              "      <td>1</td>\n",
              "      <td>Happy Place</td>\n",
              "      <td>Emily Henry</td>\n",
              "      <td>Fiction</td>\n",
              "      <td>Harriet and Wyn are the perfect couple - they ...</td>\n",
              "      <td>HAPPY+PLACE</td>\n",
              "      <td>http://books.google.com/books/content?id=-AxSz...</td>\n",
              "    </tr>\n",
              "    <tr>\n",
              "      <th>2</th>\n",
              "      <td>2</td>\n",
              "      <td>It Starts with Us</td>\n",
              "      <td>Colleen Hoover</td>\n",
              "      <td>Fiction</td>\n",
              "      <td>Lily and her ex-husband, Ryle, have just settl...</td>\n",
              "      <td>IT+ENDS+WITH+US</td>\n",
              "      <td>http://books.google.com/books/content?id=CMeVE...</td>\n",
              "    </tr>\n",
              "    <tr>\n",
              "      <th>3</th>\n",
              "      <td>3</td>\n",
              "      <td>It Starts with Us</td>\n",
              "      <td>Colleen Hoover</td>\n",
              "      <td>Fiction</td>\n",
              "      <td>Lily and her ex-husband, Ryle, have just settl...</td>\n",
              "      <td>IT+STARTS+WITH+US</td>\n",
              "      <td>http://books.google.com/books/content?id=CMeVE...</td>\n",
              "    </tr>\n",
              "    <tr>\n",
              "      <th>4</th>\n",
              "      <td>4</td>\n",
              "      <td>Lessons in Chemistry</td>\n",
              "      <td>Bonnie Garmus</td>\n",
              "      <td>Fiction</td>\n",
              "      <td>As read on BBC Radio 4 Book at Bedtime THE #1 ...</td>\n",
              "      <td>LESSONS+IN+CHEMISTRY</td>\n",
              "      <td>http://books.google.com/books/content?id=G2U4E...</td>\n",
              "    </tr>\n",
              "  </tbody>\n",
              "</table>\n",
              "</div>\n",
              "      <button class=\"colab-df-convert\" onclick=\"convertToInteractive('df-53da3799-a552-4f37-8f3e-468c51c08e90')\"\n",
              "              title=\"Convert this dataframe to an interactive table.\"\n",
              "              style=\"display:none;\">\n",
              "        \n",
              "  <svg xmlns=\"http://www.w3.org/2000/svg\" height=\"24px\"viewBox=\"0 0 24 24\"\n",
              "       width=\"24px\">\n",
              "    <path d=\"M0 0h24v24H0V0z\" fill=\"none\"/>\n",
              "    <path d=\"M18.56 5.44l.94 2.06.94-2.06 2.06-.94-2.06-.94-.94-2.06-.94 2.06-2.06.94zm-11 1L8.5 8.5l.94-2.06 2.06-.94-2.06-.94L8.5 2.5l-.94 2.06-2.06.94zm10 10l.94 2.06.94-2.06 2.06-.94-2.06-.94-.94-2.06-.94 2.06-2.06.94z\"/><path d=\"M17.41 7.96l-1.37-1.37c-.4-.4-.92-.59-1.43-.59-.52 0-1.04.2-1.43.59L10.3 9.45l-7.72 7.72c-.78.78-.78 2.05 0 2.83L4 21.41c.39.39.9.59 1.41.59.51 0 1.02-.2 1.41-.59l7.78-7.78 2.81-2.81c.8-.78.8-2.07 0-2.86zM5.41 20L4 18.59l7.72-7.72 1.47 1.35L5.41 20z\"/>\n",
              "  </svg>\n",
              "      </button>\n",
              "      \n",
              "  <style>\n",
              "    .colab-df-container {\n",
              "      display:flex;\n",
              "      flex-wrap:wrap;\n",
              "      gap: 12px;\n",
              "    }\n",
              "\n",
              "    .colab-df-convert {\n",
              "      background-color: #E8F0FE;\n",
              "      border: none;\n",
              "      border-radius: 50%;\n",
              "      cursor: pointer;\n",
              "      display: none;\n",
              "      fill: #1967D2;\n",
              "      height: 32px;\n",
              "      padding: 0 0 0 0;\n",
              "      width: 32px;\n",
              "    }\n",
              "\n",
              "    .colab-df-convert:hover {\n",
              "      background-color: #E2EBFA;\n",
              "      box-shadow: 0px 1px 2px rgba(60, 64, 67, 0.3), 0px 1px 3px 1px rgba(60, 64, 67, 0.15);\n",
              "      fill: #174EA6;\n",
              "    }\n",
              "\n",
              "    [theme=dark] .colab-df-convert {\n",
              "      background-color: #3B4455;\n",
              "      fill: #D2E3FC;\n",
              "    }\n",
              "\n",
              "    [theme=dark] .colab-df-convert:hover {\n",
              "      background-color: #434B5C;\n",
              "      box-shadow: 0px 1px 3px 1px rgba(0, 0, 0, 0.15);\n",
              "      filter: drop-shadow(0px 1px 2px rgba(0, 0, 0, 0.3));\n",
              "      fill: #FFFFFF;\n",
              "    }\n",
              "  </style>\n",
              "\n",
              "      <script>\n",
              "        const buttonEl =\n",
              "          document.querySelector('#df-53da3799-a552-4f37-8f3e-468c51c08e90 button.colab-df-convert');\n",
              "        buttonEl.style.display =\n",
              "          google.colab.kernel.accessAllowed ? 'block' : 'none';\n",
              "\n",
              "        async function convertToInteractive(key) {\n",
              "          const element = document.querySelector('#df-53da3799-a552-4f37-8f3e-468c51c08e90');\n",
              "          const dataTable =\n",
              "            await google.colab.kernel.invokeFunction('convertToInteractive',\n",
              "                                                     [key], {});\n",
              "          if (!dataTable) return;\n",
              "\n",
              "          const docLinkHtml = 'Like what you see? Visit the ' +\n",
              "            '<a target=\"_blank\" href=https://colab.research.google.com/notebooks/data_table.ipynb>data table notebook</a>'\n",
              "            + ' to learn more about interactive tables.';\n",
              "          element.innerHTML = '';\n",
              "          dataTable['output_type'] = 'display_data';\n",
              "          await google.colab.output.renderOutput(dataTable, element);\n",
              "          const docLink = document.createElement('div');\n",
              "          docLink.innerHTML = docLinkHtml;\n",
              "          element.appendChild(docLink);\n",
              "        }\n",
              "      </script>\n",
              "    </div>\n",
              "  </div>\n",
              "  "
            ]
          },
          "metadata": {},
          "execution_count": 149
        }
      ]
    },
    {
      "cell_type": "markdown",
      "source": [
        "#Feature Engineering"
      ],
      "metadata": {
        "id": "CibmOO0HqAAD"
      }
    },
    {
      "cell_type": "code",
      "source": [
        "#to remove spaces in between author names to treat each name as a unique entity\n",
        "def remove(s):\n",
        "  s=str(s)\n",
        "  return(s.replace(\" \",\"\"))"
      ],
      "metadata": {
        "id": "c_8GjQ8Kp-Sx"
      },
      "execution_count": 150,
      "outputs": []
    },
    {
      "cell_type": "code",
      "source": [
        "data[\"author\"]=data[\"author\"].apply(remove)"
      ],
      "metadata": {
        "id": "nXzCBpqzqUH7"
      },
      "execution_count": 151,
      "outputs": []
    },
    {
      "cell_type": "code",
      "source": [
        "data[\"author\"]"
      ],
      "metadata": {
        "colab": {
          "base_uri": "https://localhost:8080/"
        },
        "id": "GPtrViQeqWaa",
        "outputId": "96acf5a5-59eb-415c-f04f-489a8d145e0e"
      },
      "execution_count": 152,
      "outputs": [
        {
          "output_type": "execute_result",
          "data": {
            "text/plain": [
              "0     BearF.Braumoeller\n",
              "1            EmilyHenry\n",
              "2         ColleenHoover\n",
              "3         ColleenHoover\n",
              "4          BonnieGarmus\n",
              "            ...        \n",
              "69          LauraNowlin\n",
              "70      KathleenGlasgow\n",
              "71          LynnPainter\n",
              "72           AmberSmith\n",
              "73       KarenM.McManus\n",
              "Name: author, Length: 72, dtype: object"
            ]
          },
          "metadata": {},
          "execution_count": 152
        }
      ]
    },
    {
      "cell_type": "code",
      "source": [
        "data[\"genres\"]=data[\"genres\"].apply(remove)"
      ],
      "metadata": {
        "id": "kpCt7syWqb8F"
      },
      "execution_count": 153,
      "outputs": []
    },
    {
      "cell_type": "code",
      "source": [
        "#combining all the features that uniquely defines the book into one column\n",
        "combined_features = data['genres']+' '+data['author']+' '+data['description']"
      ],
      "metadata": {
        "id": "_aZj9YeOqg9z"
      },
      "execution_count": 154,
      "outputs": []
    },
    {
      "cell_type": "code",
      "source": [
        "combined_features"
      ],
      "metadata": {
        "colab": {
          "base_uri": "https://localhost:8080/"
        },
        "id": "1LTXziVeqqs6",
        "outputId": "dc19c6e4-721b-4847-96d2-90ec4eaa36c1"
      },
      "execution_count": 155,
      "outputs": [
        {
          "output_type": "execute_result",
          "data": {
            "text/plain": [
              "0     POLITICALSCIENCE BearF.Braumoeller The idea th...\n",
              "1     Fiction EmilyHenry Harriet and Wyn are the per...\n",
              "2     Fiction ColleenHoover Lily and her ex-husband,...\n",
              "3     Fiction ColleenHoover Lily and her ex-husband,...\n",
              "4     Fiction BonnieGarmus As read on BBC Radio 4 Bo...\n",
              "                            ...                        \n",
              "69    JuvenileFiction LauraNowlin If he had been wit...\n",
              "70    YoungAdultFiction KathleenGlasgow #1 NEW YORK ...\n",
              "71    JuvenileFiction LynnPainter A USA TODAY and Ne...\n",
              "72    YoungAdultFiction AmberSmith \"After fourteen-y...\n",
              "73    YoungAdultFiction KarenM.McManus The internati...\n",
              "Length: 72, dtype: object"
            ]
          },
          "metadata": {},
          "execution_count": 155
        }
      ]
    },
    {
      "cell_type": "code",
      "source": [
        "#to convert all the features into lowercase to remove any bias due to the case\n",
        "def low(a):\n",
        "    return(a.lower())"
      ],
      "metadata": {
        "id": "HW0kY7w8qs3l"
      },
      "execution_count": 156,
      "outputs": []
    },
    {
      "cell_type": "code",
      "source": [
        "combined_features=combined_features.apply(low)\n",
        "combined_features"
      ],
      "metadata": {
        "colab": {
          "base_uri": "https://localhost:8080/"
        },
        "id": "hM8Fm3JOrCs5",
        "outputId": "3212b84e-3952-404b-82be-eca68de497f3"
      },
      "execution_count": 157,
      "outputs": [
        {
          "output_type": "execute_result",
          "data": {
            "text/plain": [
              "0     politicalscience bearf.braumoeller the idea th...\n",
              "1     fiction emilyhenry harriet and wyn are the per...\n",
              "2     fiction colleenhoover lily and her ex-husband,...\n",
              "3     fiction colleenhoover lily and her ex-husband,...\n",
              "4     fiction bonniegarmus as read on bbc radio 4 bo...\n",
              "                            ...                        \n",
              "69    juvenilefiction lauranowlin if he had been wit...\n",
              "70    youngadultfiction kathleenglasgow #1 new york ...\n",
              "71    juvenilefiction lynnpainter a usa today and ne...\n",
              "72    youngadultfiction ambersmith \"after fourteen-y...\n",
              "73    youngadultfiction karenm.mcmanus the internati...\n",
              "Length: 72, dtype: object"
            ]
          },
          "metadata": {},
          "execution_count": 157
        }
      ]
    },
    {
      "cell_type": "code",
      "source": [
        "data['tags']=combined_features"
      ],
      "metadata": {
        "id": "nKtP_XncrH-z"
      },
      "execution_count": 158,
      "outputs": []
    },
    {
      "cell_type": "code",
      "source": [
        "data['tags'].apply(len).median()"
      ],
      "metadata": {
        "colab": {
          "base_uri": "https://localhost:8080/"
        },
        "id": "35Lzm5Q0rNFH",
        "outputId": "482ca908-17f7-425a-dbae-8ee5cf12c04d"
      },
      "execution_count": 159,
      "outputs": [
        {
          "output_type": "execute_result",
          "data": {
            "text/plain": [
              "1168.5"
            ]
          },
          "metadata": {},
          "execution_count": 159
        }
      ]
    },
    {
      "cell_type": "code",
      "source": [
        "#to use porter stemmer to change each word into its root word\n",
        "from nltk.stem.porter import PorterStemmer\n",
        "ps=PorterStemmer()"
      ],
      "metadata": {
        "id": "fqF82kgwrPuj"
      },
      "execution_count": 160,
      "outputs": []
    },
    {
      "cell_type": "code",
      "source": [
        "def stem(a):\n",
        "    y=[]\n",
        "    for i in a.split():\n",
        "        y.append(ps.stem(i))\n",
        "    return(\" \".join(y))"
      ],
      "metadata": {
        "id": "RHY2VKOareT0"
      },
      "execution_count": 161,
      "outputs": []
    },
    {
      "cell_type": "code",
      "source": [
        "data['tags']=data['tags'].apply(stem)"
      ],
      "metadata": {
        "id": "4n1DxrDXrgMN"
      },
      "execution_count": 162,
      "outputs": []
    },
    {
      "cell_type": "markdown",
      "source": [
        "#Model Development"
      ],
      "metadata": {
        "id": "GJTpmW3WuO_y"
      }
    },
    {
      "cell_type": "code",
      "source": [
        "#to use count Vectorizer to encode the words so that our model can use it\n",
        "from sklearn.feature_extraction.text import CountVectorizer\n",
        "cv=CountVectorizer(max_features=10000,stop_words='english')"
      ],
      "metadata": {
        "id": "LqmkyASFrh_l"
      },
      "execution_count": 163,
      "outputs": []
    },
    {
      "cell_type": "code",
      "source": [
        "vec=cv.fit_transform(data['tags'])"
      ],
      "metadata": {
        "id": "wRdRyPi9rqH4"
      },
      "execution_count": 164,
      "outputs": []
    },
    {
      "cell_type": "code",
      "source": [
        "len(cv.get_feature_names_out())"
      ],
      "metadata": {
        "colab": {
          "base_uri": "https://localhost:8080/"
        },
        "id": "sAJz0cX2rsvV",
        "outputId": "f3b215bc-e9bf-407c-d8cf-65049a0ec1e1"
      },
      "execution_count": 165,
      "outputs": [
        {
          "output_type": "execute_result",
          "data": {
            "text/plain": [
              "3270"
            ]
          },
          "metadata": {},
          "execution_count": 165
        }
      ]
    },
    {
      "cell_type": "code",
      "source": [
        "#to implement cosine similarity on the encoded tags so as to compute the similarity between each of the books\n",
        "from sklearn.metrics.pairwise import cosine_similarity\n",
        "print(vec.shape)\n",
        "similarity=cosine_similarity(vec)\n",
        "print(similarity.shape)"
      ],
      "metadata": {
        "colab": {
          "base_uri": "https://localhost:8080/"
        },
        "id": "muQoQfeMrvoE",
        "outputId": "20e440ac-cd29-4429-9971-9fddf191cdbc"
      },
      "execution_count": 166,
      "outputs": [
        {
          "output_type": "stream",
          "name": "stdout",
          "text": [
            "(72, 3270)\n",
            "(72, 72)\n"
          ]
        }
      ]
    },
    {
      "cell_type": "markdown",
      "source": [
        "#User input commands"
      ],
      "metadata": {
        "id": "ylIStZrTuVZm"
      }
    },
    {
      "cell_type": "code",
      "source": [
        "def recommend(book):\n",
        "    gs=gsearch(book)\n",
        "    data_id=requests.get(\"https://www.googleapis.com/books/v1/volumes?q=\"+gs).json()    \n",
        "    booka=ba=str(data_id['items'][0]['volumeInfo']['authors'][0])\n",
        "    desc=str(data_id['items'][0]['volumeInfo']['description'])\n",
        "    genres=str(data_id['items'][0]['volumeInfo']['categories'][0])\n",
        "    tag=genres+\" \"+booka+\" \"+desc\n",
        "    tag=tag.lower()\n",
        "    tag=stem(tag)\n",
        "    vec1=cv.transform([tag])\n",
        "    from scipy.sparse import vstack\n",
        "    fvec=vstack([vec1, vec])\n",
        "    similarity=cosine_similarity(fvec)\n",
        "    distances=similarity[0]\n",
        "    #print(distances)\n",
        "    print(sorted(list(enumerate(distances)),reverse=True,key=lambda x:x[1]))\n",
        "    book_list_index=sorted(list(enumerate(distances)),reverse=True,key=lambda x:x[1])[1]\n",
        "    if (str(data.iloc[book_list_index[0]-1]['title']).lower())==(book.lower()):\n",
        "      #if the book user has typed is already in the database so we output the second most(not the first most) similar book\n",
        "      print(\"**\")\n",
        "      book_list_index=sorted(list(enumerate(distances)),reverse=True,key=lambda x:x[1])[2]\n",
        "      print(\"Book recomended-\"+data.iloc[book_list_index[0]-1]['title'])\n",
        "      print(\"Similarity percentage=\"+str(round(book_list_index[1]*100,2)))\n",
        "      print(\"Synopsis\")\n",
        "      print(data.iloc[book_list_index[0]-1]['description'])\n",
        "    else:\n",
        "      print(\"Book recomended-\"+data.iloc[book_list_index[0]-1]['title'])\n",
        "      print(\"Similarity percentage=\"+str(round(book_list_index[1]*100,2)))\n",
        "      print(\"Synopsis\")\n",
        "      print(data.iloc[book_list_index[0]-1]['description'])"
      ],
      "metadata": {
        "id": "oB0tieXMsHho"
      },
      "execution_count": 167,
      "outputs": []
    },
    {
      "cell_type": "code",
      "source": [
        "book_name = input(' Enter book name : ')\n",
        "recommend(book_name)"
      ],
      "metadata": {
        "colab": {
          "base_uri": "https://localhost:8080/"
        },
        "id": "b4EHu_4hsyQR",
        "outputId": "bd4b9ea4-8501-48d2-abd0-42dfbb624b53"
      },
      "execution_count": 168,
      "outputs": [
        {
          "output_type": "stream",
          "name": "stdout",
          "text": [
            " Enter book name : The kite runner\n",
            "[(0, 0.9999999999999997), (66, 0.2405351177211819), (28, 0.23301366225045), (44, 0.21747941810042), (62, 0.21630645583290953), (46, 0.20619652471058064), (13, 0.2029385157727364), (67, 0.17601439465465724), (61, 0.16594796272900444), (63, 0.1564028117724636), (29, 0.1527830828380352), (45, 0.1525478508542764), (53, 0.15179418517972906), (25, 0.1517797003106489), (71, 0.1515228816828316), (65, 0.14638501094227996), (39, 0.1440046082211958), (50, 0.1354460635337592), (38, 0.131929695183502), (16, 0.13173888881045848), (55, 0.1297186304156927), (34, 0.12930363550315668), (15, 0.12407291674636628), (36, 0.12298800925361815), (41, 0.12229989761755711), (60, 0.11664236870396086), (58, 0.11572751247156894), (69, 0.11470786693528087), (57, 0.11214032600406415), (49, 0.11135885079684349), (59, 0.11048143863155316), (51, 0.11024909044875568), (24, 0.10765409408615137), (3, 0.10482848367219183), (4, 0.10482848367219183), (5, 0.09936414126574183), (43, 0.096523417813168), (22, 0.09583148474999098), (9, 0.0944911182523068), (33, 0.09356014857063998), (23, 0.09200874124564722), (11, 0.089554732567929), (14, 0.0880237696271323), (35, 0.08451542547285165), (2, 0.08399210511316159), (30, 0.08183170883849714), (18, 0.07356123579206246), (21, 0.0720023041105979), (64, 0.0695889000639221), (27, 0.06900655593423541), (52, 0.06872081327440495), (6, 0.06615701550312038), (19, 0.06567586718659171), (42, 0.06505036848536098), (48, 0.06444240777830837), (7, 0.059289000681406114), (37, 0.057142857142857134), (26, 0.0545544725589981), (12, 0.05428372908849341), (10, 0.048409266342989705), (32, 0.0472455591261534), (47, 0.043355498476206), (54, 0.04247059928646879), (70, 0.042257712736425826), (17, 0.035093120317179816), (72, 0.03229168418603132), (1, 0.023131050102961247), (40, 0.01494035761667992), (8, 0.0), (20, 0.0), (31, 0.0), (56, 0.0), (68, 0.0)]\n",
            "Book recomended-A Long Walk to Water\n",
            "Similarity percentage=24.05\n",
            "Synopsis\n",
            "When the Sudanese civil war reaches his village in 1985, 11-year-old Salva becomes separated from his family and must walk with other Dinka tribe members through southern Sudan, Ethiopia and Kenya in search of safe haven. Based on the life of Salva Dut, who, after emigrating to America in 1996, began a project to dig water wells in Sudan. By a Newbery Medal-winning author.\n"
          ]
        }
      ]
    },
    {
      "cell_type": "markdown",
      "source": [
        "#Deployment into a server\n"
      ],
      "metadata": {
        "id": "yvDoOzAms-ZS"
      }
    },
    {
      "cell_type": "markdown",
      "source": [
        "The code has been deployed in the streamlit server with the help of the hugging face spaces\n",
        "\n",
        "Repository link for deployment is - https://huggingface.co/spaces/SameerR007/BookrecommenderNYTbestseller/tree/main\n",
        "\n",
        "Demo link is - https://sameerr007-bookrecommendernytbestseller.hf.space/ "
      ],
      "metadata": {
        "id": "DW_mJEN2tFQd"
      }
    },
    {
      "cell_type": "code",
      "source": [],
      "metadata": {
        "id": "gwo5OAG1s3Vl"
      },
      "execution_count": null,
      "outputs": []
    }
  ]
}