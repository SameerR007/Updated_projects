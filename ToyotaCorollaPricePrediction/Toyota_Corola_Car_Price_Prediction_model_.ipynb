{
  "nbformat": 4,
  "nbformat_minor": 0,
  "metadata": {
    "colab": {
      "name": "Toyota Corola Car Price Prediction model .ipynb",
      "provenance": [],
      "collapsed_sections": [],
      "include_colab_link": true
    },
    "kernelspec": {
      "name": "python3",
      "display_name": "Python 3"
    },
    "language_info": {
      "name": "python"
    }
  },
  "cells": [
    {
      "cell_type": "markdown",
      "metadata": {
        "id": "view-in-github",
        "colab_type": "text"
      },
      "source": [
        "<a href=\"https://colab.research.google.com/github/SameerR007/ToyotaCorollaPricePrediction/blob/main/Toyota_Corola_Car_Price_Prediction_model_.ipynb\" target=\"_parent\"><img src=\"https://colab.research.google.com/assets/colab-badge.svg\" alt=\"Open In Colab\"/></a>"
      ]
    },
    {
      "cell_type": "markdown",
      "metadata": {
        "id": "MlVU6SD5rAu5"
      },
      "source": [
        "# Toyota Corola Car Price Data analysis and modelling "
      ]
    },
    {
      "cell_type": "markdown",
      "metadata": {
        "id": "56zXNvSxpbbl"
      },
      "source": [
        "Pipeline of our Project \\\\\n",
        "1. EDA (Exploratory Data Analysis ) \\\\\n",
        "(i) Importing raw data and checking type of each column variable and dimension for data \\\\\n",
        "(ii)Checking for missing observation in data and cheking for ouliers in data \\\\\n",
        "(iii) Visualizing the data information with help of some descriptive statistics \\\\\n",
        "(iv) Imputation of missing observation if found any \n",
        "\n",
        "\n"
      ]
    },
    {
      "cell_type": "markdown",
      "metadata": {
        "id": "2cgwJYik5Ag0"
      },
      "source": [
        "#Predicting the price of Toyota Corolla on the basis of Few Independent variables."
      ]
    },
    {
      "cell_type": "markdown",
      "metadata": {
        "id": "gkKwYXv95aeu"
      },
      "source": [
        "#Acronym of variables\n",
        "\n",
        "  #Age: Age in years\n",
        "  #KM: Accumulated Kilometers on odometer\n",
        "  #FuelType: Fuel Type (Petrol, Diesel, CNG)\n",
        "  #HP: Horse Power\n",
        "  #MetColor: Metallic Color (Yes=1, No=0)\n",
        "  #Automatic: Automatic ( (Yes=1, No=0))\n",
        "  #CC: Cylinder Volume in cubic centimeters\n",
        "  #Doors: Number of doors\n",
        "  #Weight: Weight in Kilograms\n",
        "  #Price: Offer Price in EURO"
      ]
    },
    {
      "cell_type": "markdown",
      "metadata": {
        "id": "Ba893no95eRn"
      },
      "source": [
        "#Importing libraries\n"
      ]
    },
    {
      "cell_type": "code",
      "metadata": {
        "id": "e4YBUfJ7kc14",
        "colab": {
          "base_uri": "https://localhost:8080/"
        },
        "outputId": "7b55a573-8f12-40b5-ebd2-545daf61cce4"
      },
      "source": [
        "import pandas as pd\n",
        "import numpy as np\n",
        "import matplotlib.pyplot as plt\n",
        "import scipy.stats as stats\n",
        "import seaborn as sns\n",
        "from sklearn.model_selection import train_test_split,GridSearchCV\n",
        "from sklearn.linear_model import LinearRegression,Ridge\n",
        "from sklearn.metrics import r2_score,mean_squared_error\n",
        "from statsmodels.stats.outliers_influence import variance_inflation_factor\n",
        "from sklearn.ensemble import RandomForestRegressor"
      ],
      "execution_count": null,
      "outputs": [
        {
          "output_type": "stream",
          "text": [
            "/usr/local/lib/python3.7/dist-packages/statsmodels/tools/_testing.py:19: FutureWarning: pandas.util.testing is deprecated. Use the functions in the public API at pandas.testing instead.\n",
            "  import pandas.util.testing as tm\n"
          ],
          "name": "stderr"
        }
      ]
    },
    {
      "cell_type": "markdown",
      "metadata": {
        "id": "LUx9efVQJtzT"
      },
      "source": [
        "#Reading the data\n"
      ]
    },
    {
      "cell_type": "code",
      "metadata": {
        "colab": {
          "resources": {
            "http://localhost:8080/nbextensions/google.colab/files.js": {
              "data": "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",
              "ok": true,
              "headers": [
                [
                  "content-type",
                  "application/javascript"
                ]
              ],
              "status": 200,
              "status_text": ""
            }
          },
          "base_uri": "https://localhost:8080/",
          "height": 73
        },
        "id": "7yg_7LtskiLl",
        "outputId": "9b2090c3-2107-4750-fe16-ce3104b7899c"
      },
      "source": [
        "from google.colab import files\n",
        "uploaded = files.upload()\n"
      ],
      "execution_count": null,
      "outputs": [
        {
          "output_type": "display_data",
          "data": {
            "text/html": [
              "\n",
              "     <input type=\"file\" id=\"files-ccd1e633-e265-4b91-a61d-a619ba3b3ff1\" name=\"files[]\" multiple disabled\n",
              "        style=\"border:none\" />\n",
              "     <output id=\"result-ccd1e633-e265-4b91-a61d-a619ba3b3ff1\">\n",
              "      Upload widget is only available when the cell has been executed in the\n",
              "      current browser session. Please rerun this cell to enable.\n",
              "      </output>\n",
              "      <script src=\"/nbextensions/google.colab/files.js\"></script> "
            ],
            "text/plain": [
              "<IPython.core.display.HTML object>"
            ]
          },
          "metadata": {
            "tags": []
          }
        },
        {
          "output_type": "stream",
          "text": [
            "Saving ToyotaCorolla.csv to ToyotaCorolla.csv\n"
          ],
          "name": "stdout"
        }
      ]
    },
    {
      "cell_type": "code",
      "metadata": {
        "colab": {
          "base_uri": "https://localhost:8080/",
          "height": 417
        },
        "id": "T0yYNYbulknf",
        "outputId": "cfce494c-a44c-48bc-e38d-1c082de926d0"
      },
      "source": [
        "import io\n",
        "dataset = pd.read_csv(\"/content/ToyotaCorolla.csv\")\n",
        "dataset\n"
      ],
      "execution_count": null,
      "outputs": [
        {
          "output_type": "execute_result",
          "data": {
            "text/html": [
              "<div>\n",
              "<style scoped>\n",
              "    .dataframe tbody tr th:only-of-type {\n",
              "        vertical-align: middle;\n",
              "    }\n",
              "\n",
              "    .dataframe tbody tr th {\n",
              "        vertical-align: top;\n",
              "    }\n",
              "\n",
              "    .dataframe thead th {\n",
              "        text-align: right;\n",
              "    }\n",
              "</style>\n",
              "<table border=\"1\" class=\"dataframe\">\n",
              "  <thead>\n",
              "    <tr style=\"text-align: right;\">\n",
              "      <th></th>\n",
              "      <th>Price</th>\n",
              "      <th>Age</th>\n",
              "      <th>KM</th>\n",
              "      <th>FuelType</th>\n",
              "      <th>HP</th>\n",
              "      <th>MetColor</th>\n",
              "      <th>Automatic</th>\n",
              "      <th>CC</th>\n",
              "      <th>Doors</th>\n",
              "      <th>Weight</th>\n",
              "    </tr>\n",
              "  </thead>\n",
              "  <tbody>\n",
              "    <tr>\n",
              "      <th>0</th>\n",
              "      <td>13500</td>\n",
              "      <td>23</td>\n",
              "      <td>46986</td>\n",
              "      <td>Diesel</td>\n",
              "      <td>90</td>\n",
              "      <td>1</td>\n",
              "      <td>0</td>\n",
              "      <td>2000</td>\n",
              "      <td>3</td>\n",
              "      <td>1165</td>\n",
              "    </tr>\n",
              "    <tr>\n",
              "      <th>1</th>\n",
              "      <td>13750</td>\n",
              "      <td>23</td>\n",
              "      <td>72937</td>\n",
              "      <td>Diesel</td>\n",
              "      <td>90</td>\n",
              "      <td>1</td>\n",
              "      <td>0</td>\n",
              "      <td>2000</td>\n",
              "      <td>3</td>\n",
              "      <td>1165</td>\n",
              "    </tr>\n",
              "    <tr>\n",
              "      <th>2</th>\n",
              "      <td>13950</td>\n",
              "      <td>24</td>\n",
              "      <td>41711</td>\n",
              "      <td>Diesel</td>\n",
              "      <td>90</td>\n",
              "      <td>1</td>\n",
              "      <td>0</td>\n",
              "      <td>2000</td>\n",
              "      <td>3</td>\n",
              "      <td>1165</td>\n",
              "    </tr>\n",
              "    <tr>\n",
              "      <th>3</th>\n",
              "      <td>14950</td>\n",
              "      <td>26</td>\n",
              "      <td>48000</td>\n",
              "      <td>Diesel</td>\n",
              "      <td>90</td>\n",
              "      <td>0</td>\n",
              "      <td>0</td>\n",
              "      <td>2000</td>\n",
              "      <td>3</td>\n",
              "      <td>1165</td>\n",
              "    </tr>\n",
              "    <tr>\n",
              "      <th>4</th>\n",
              "      <td>13750</td>\n",
              "      <td>30</td>\n",
              "      <td>38500</td>\n",
              "      <td>Diesel</td>\n",
              "      <td>90</td>\n",
              "      <td>0</td>\n",
              "      <td>0</td>\n",
              "      <td>2000</td>\n",
              "      <td>3</td>\n",
              "      <td>1170</td>\n",
              "    </tr>\n",
              "    <tr>\n",
              "      <th>...</th>\n",
              "      <td>...</td>\n",
              "      <td>...</td>\n",
              "      <td>...</td>\n",
              "      <td>...</td>\n",
              "      <td>...</td>\n",
              "      <td>...</td>\n",
              "      <td>...</td>\n",
              "      <td>...</td>\n",
              "      <td>...</td>\n",
              "      <td>...</td>\n",
              "    </tr>\n",
              "    <tr>\n",
              "      <th>1431</th>\n",
              "      <td>7500</td>\n",
              "      <td>69</td>\n",
              "      <td>20544</td>\n",
              "      <td>Petrol</td>\n",
              "      <td>86</td>\n",
              "      <td>1</td>\n",
              "      <td>0</td>\n",
              "      <td>1300</td>\n",
              "      <td>3</td>\n",
              "      <td>1025</td>\n",
              "    </tr>\n",
              "    <tr>\n",
              "      <th>1432</th>\n",
              "      <td>10845</td>\n",
              "      <td>72</td>\n",
              "      <td>19000</td>\n",
              "      <td>Petrol</td>\n",
              "      <td>86</td>\n",
              "      <td>0</td>\n",
              "      <td>0</td>\n",
              "      <td>1300</td>\n",
              "      <td>3</td>\n",
              "      <td>1015</td>\n",
              "    </tr>\n",
              "    <tr>\n",
              "      <th>1433</th>\n",
              "      <td>8500</td>\n",
              "      <td>71</td>\n",
              "      <td>17016</td>\n",
              "      <td>Petrol</td>\n",
              "      <td>86</td>\n",
              "      <td>0</td>\n",
              "      <td>0</td>\n",
              "      <td>1300</td>\n",
              "      <td>3</td>\n",
              "      <td>1015</td>\n",
              "    </tr>\n",
              "    <tr>\n",
              "      <th>1434</th>\n",
              "      <td>7250</td>\n",
              "      <td>70</td>\n",
              "      <td>16916</td>\n",
              "      <td>Petrol</td>\n",
              "      <td>86</td>\n",
              "      <td>1</td>\n",
              "      <td>0</td>\n",
              "      <td>1300</td>\n",
              "      <td>3</td>\n",
              "      <td>1015</td>\n",
              "    </tr>\n",
              "    <tr>\n",
              "      <th>1435</th>\n",
              "      <td>6950</td>\n",
              "      <td>76</td>\n",
              "      <td>1</td>\n",
              "      <td>Petrol</td>\n",
              "      <td>110</td>\n",
              "      <td>0</td>\n",
              "      <td>0</td>\n",
              "      <td>1600</td>\n",
              "      <td>5</td>\n",
              "      <td>1114</td>\n",
              "    </tr>\n",
              "  </tbody>\n",
              "</table>\n",
              "<p>1436 rows × 10 columns</p>\n",
              "</div>"
            ],
            "text/plain": [
              "      Price  Age     KM FuelType   HP  MetColor  Automatic    CC  Doors  Weight\n",
              "0     13500   23  46986   Diesel   90         1          0  2000      3    1165\n",
              "1     13750   23  72937   Diesel   90         1          0  2000      3    1165\n",
              "2     13950   24  41711   Diesel   90         1          0  2000      3    1165\n",
              "3     14950   26  48000   Diesel   90         0          0  2000      3    1165\n",
              "4     13750   30  38500   Diesel   90         0          0  2000      3    1170\n",
              "...     ...  ...    ...      ...  ...       ...        ...   ...    ...     ...\n",
              "1431   7500   69  20544   Petrol   86         1          0  1300      3    1025\n",
              "1432  10845   72  19000   Petrol   86         0          0  1300      3    1015\n",
              "1433   8500   71  17016   Petrol   86         0          0  1300      3    1015\n",
              "1434   7250   70  16916   Petrol   86         1          0  1300      3    1015\n",
              "1435   6950   76      1   Petrol  110         0          0  1600      5    1114\n",
              "\n",
              "[1436 rows x 10 columns]"
            ]
          },
          "metadata": {
            "tags": []
          },
          "execution_count": 3
        }
      ]
    },
    {
      "cell_type": "code",
      "metadata": {
        "colab": {
          "base_uri": "https://localhost:8080/",
          "height": 203
        },
        "id": "t5R_vHndlweU",
        "outputId": "a6270fa4-c868-4722-8421-ff6c8d94cae1"
      },
      "source": [
        "dataset.head()"
      ],
      "execution_count": null,
      "outputs": [
        {
          "output_type": "execute_result",
          "data": {
            "text/html": [
              "<div>\n",
              "<style scoped>\n",
              "    .dataframe tbody tr th:only-of-type {\n",
              "        vertical-align: middle;\n",
              "    }\n",
              "\n",
              "    .dataframe tbody tr th {\n",
              "        vertical-align: top;\n",
              "    }\n",
              "\n",
              "    .dataframe thead th {\n",
              "        text-align: right;\n",
              "    }\n",
              "</style>\n",
              "<table border=\"1\" class=\"dataframe\">\n",
              "  <thead>\n",
              "    <tr style=\"text-align: right;\">\n",
              "      <th></th>\n",
              "      <th>Price</th>\n",
              "      <th>Age</th>\n",
              "      <th>KM</th>\n",
              "      <th>FuelType</th>\n",
              "      <th>HP</th>\n",
              "      <th>MetColor</th>\n",
              "      <th>Automatic</th>\n",
              "      <th>CC</th>\n",
              "      <th>Doors</th>\n",
              "      <th>Weight</th>\n",
              "    </tr>\n",
              "  </thead>\n",
              "  <tbody>\n",
              "    <tr>\n",
              "      <th>0</th>\n",
              "      <td>13500</td>\n",
              "      <td>23</td>\n",
              "      <td>46986</td>\n",
              "      <td>Diesel</td>\n",
              "      <td>90</td>\n",
              "      <td>1</td>\n",
              "      <td>0</td>\n",
              "      <td>2000</td>\n",
              "      <td>3</td>\n",
              "      <td>1165</td>\n",
              "    </tr>\n",
              "    <tr>\n",
              "      <th>1</th>\n",
              "      <td>13750</td>\n",
              "      <td>23</td>\n",
              "      <td>72937</td>\n",
              "      <td>Diesel</td>\n",
              "      <td>90</td>\n",
              "      <td>1</td>\n",
              "      <td>0</td>\n",
              "      <td>2000</td>\n",
              "      <td>3</td>\n",
              "      <td>1165</td>\n",
              "    </tr>\n",
              "    <tr>\n",
              "      <th>2</th>\n",
              "      <td>13950</td>\n",
              "      <td>24</td>\n",
              "      <td>41711</td>\n",
              "      <td>Diesel</td>\n",
              "      <td>90</td>\n",
              "      <td>1</td>\n",
              "      <td>0</td>\n",
              "      <td>2000</td>\n",
              "      <td>3</td>\n",
              "      <td>1165</td>\n",
              "    </tr>\n",
              "    <tr>\n",
              "      <th>3</th>\n",
              "      <td>14950</td>\n",
              "      <td>26</td>\n",
              "      <td>48000</td>\n",
              "      <td>Diesel</td>\n",
              "      <td>90</td>\n",
              "      <td>0</td>\n",
              "      <td>0</td>\n",
              "      <td>2000</td>\n",
              "      <td>3</td>\n",
              "      <td>1165</td>\n",
              "    </tr>\n",
              "    <tr>\n",
              "      <th>4</th>\n",
              "      <td>13750</td>\n",
              "      <td>30</td>\n",
              "      <td>38500</td>\n",
              "      <td>Diesel</td>\n",
              "      <td>90</td>\n",
              "      <td>0</td>\n",
              "      <td>0</td>\n",
              "      <td>2000</td>\n",
              "      <td>3</td>\n",
              "      <td>1170</td>\n",
              "    </tr>\n",
              "  </tbody>\n",
              "</table>\n",
              "</div>"
            ],
            "text/plain": [
              "   Price  Age     KM FuelType  HP  MetColor  Automatic    CC  Doors  Weight\n",
              "0  13500   23  46986   Diesel  90         1          0  2000      3    1165\n",
              "1  13750   23  72937   Diesel  90         1          0  2000      3    1165\n",
              "2  13950   24  41711   Diesel  90         1          0  2000      3    1165\n",
              "3  14950   26  48000   Diesel  90         0          0  2000      3    1165\n",
              "4  13750   30  38500   Diesel  90         0          0  2000      3    1170"
            ]
          },
          "metadata": {
            "tags": []
          },
          "execution_count": 4
        }
      ]
    },
    {
      "cell_type": "code",
      "metadata": {
        "colab": {
          "base_uri": "https://localhost:8080/"
        },
        "id": "ic-1hhy4nDOp",
        "outputId": "9d74031b-ee52-4629-fe20-a972617f9b19"
      },
      "source": [
        "dataset.shape\n"
      ],
      "execution_count": null,
      "outputs": [
        {
          "output_type": "execute_result",
          "data": {
            "text/plain": [
              "(1436, 10)"
            ]
          },
          "metadata": {
            "tags": []
          },
          "execution_count": 5
        }
      ]
    },
    {
      "cell_type": "markdown",
      "metadata": {
        "id": "N8O6x3hF7CJf"
      },
      "source": [
        "1.In the given dataset, there are 1436 rows and 10 columns.\n",
        "\n",
        "\n",
        "\n",
        "\n",
        "2.We have one column as Dependent variable('Price') and other 9 columns as Independent variables('Age','KM','FuelType','HP','MetColor','Automatic','CC','Doors','Weight')\n",
        "\n",
        "\n",
        "\n",
        "\n",
        "\n",
        "\n",
        "\n",
        "\n",
        "\n",
        "\n",
        "\n",
        "\n",
        "\n",
        "\n"
      ]
    },
    {
      "cell_type": "code",
      "metadata": {
        "colab": {
          "base_uri": "https://localhost:8080/"
        },
        "id": "soiCmYWrniEn",
        "outputId": "61cae9df-90f5-4a0b-8598-8675c364239f"
      },
      "source": [
        "dataset.info() # Checking for the Data type of each column variable "
      ],
      "execution_count": null,
      "outputs": [
        {
          "output_type": "stream",
          "text": [
            "<class 'pandas.core.frame.DataFrame'>\n",
            "RangeIndex: 1436 entries, 0 to 1435\n",
            "Data columns (total 10 columns):\n",
            " #   Column     Non-Null Count  Dtype \n",
            "---  ------     --------------  ----- \n",
            " 0   Price      1436 non-null   int64 \n",
            " 1   Age        1436 non-null   int64 \n",
            " 2   KM         1436 non-null   int64 \n",
            " 3   FuelType   1436 non-null   object\n",
            " 4   HP         1436 non-null   int64 \n",
            " 5   MetColor   1436 non-null   int64 \n",
            " 6   Automatic  1436 non-null   int64 \n",
            " 7   CC         1436 non-null   int64 \n",
            " 8   Doors      1436 non-null   int64 \n",
            " 9   Weight     1436 non-null   int64 \n",
            "dtypes: int64(9), object(1)\n",
            "memory usage: 112.3+ KB\n"
          ],
          "name": "stdout"
        }
      ]
    },
    {
      "cell_type": "markdown",
      "metadata": {
        "id": "Cgy2BDt76qxY"
      },
      "source": [
        "1. Out of the given variables in the dataset,we have 9 'Integer' type variable and one 'object' type variable i.e. FuelType.\n"
      ]
    },
    {
      "cell_type": "code",
      "metadata": {
        "colab": {
          "base_uri": "https://localhost:8080/"
        },
        "id": "b58PRPeZnliK",
        "outputId": "27aeb96b-9b46-4b0b-d77c-8b42918b2d59"
      },
      "source": [
        "dataset.isnull().sum() ## Checking for missing observation in the data "
      ],
      "execution_count": null,
      "outputs": [
        {
          "output_type": "execute_result",
          "data": {
            "text/plain": [
              "Price        0\n",
              "Age          0\n",
              "KM           0\n",
              "FuelType     0\n",
              "HP           0\n",
              "MetColor     0\n",
              "Automatic    0\n",
              "CC           0\n",
              "Doors        0\n",
              "Weight       0\n",
              "dtype: int64"
            ]
          },
          "metadata": {
            "tags": []
          },
          "execution_count": 7
        }
      ]
    },
    {
      "cell_type": "markdown",
      "metadata": {
        "id": "xbCmRtq168Da"
      },
      "source": [
        "1. No missing observation in the given dataset,thus we can easily proceed with analysis of our data.\n"
      ]
    },
    {
      "cell_type": "markdown",
      "metadata": {
        "id": "rGyZ52sRWRo-"
      },
      "source": [
        "#Outliers Check"
      ]
    },
    {
      "cell_type": "code",
      "metadata": {
        "colab": {
          "base_uri": "https://localhost:8080/",
          "height": 957
        },
        "id": "SAgo7c0MWG5c",
        "outputId": "32b5cfa6-f39b-433c-d882-c94cb6aed0c2"
      },
      "source": [
        "continous_variable = [features for features in dataset.columns if (dataset[features].dtypes !='O'and len(np.unique(dataset[features]))>25)]\n",
        "for outlier_check in continous_variable:\n",
        "    sns.boxplot(y=dataset[outlier_check])\n",
        "    plt.show()\n"
      ],
      "execution_count": null,
      "outputs": [
        {
          "output_type": "display_data",
          "data": {
            "image/png": "[encoded data removed]",
            "text/plain": [
              "<Figure size 432x288 with 1 Axes>"
            ]
          },
          "metadata": {
            "tags": [],
            "needs_background": "light"
          }
        },
        {
          "output_type": "display_data",
          "data": {
            "image/png": "[encoded data removed]",
            "text/plain": [
              "<Figure size 432x288 with 1 Axes>"
            ]
          },
          "metadata": {
            "tags": [],
            "needs_background": "light"
          }
        },
        {
          "output_type": "display_data",
          "data": {
            "image/png": "[encoded data removed]",
            "text/plain": [
              "<Figure size 432x288 with 1 Axes>"
            ]
          },
          "metadata": {
            "tags": [],
            "needs_background": "light"
          }
        },
        {
          "output_type": "display_data",
          "data": {
            "image/png": "[encoded data removed]",
            "text/plain": [
              "<Figure size 432x288 with 1 Axes>"
            ]
          },
          "metadata": {
            "tags": [],
            "needs_background": "light"
          }
        }
      ]
    },
    {
      "cell_type": "markdown",
      "metadata": {
        "id": "94PZX3HeWlK0"
      },
      "source": [
        "1. There's a presence of outliers in all the Continuous variabes using Box Plot.\n"
      ]
    },
    {
      "cell_type": "markdown",
      "metadata": {
        "id": "Hc6GfvLKKEAR"
      },
      "source": [
        "# Univariate analysis\n"
      ]
    },
    {
      "cell_type": "code",
      "metadata": {
        "id": "F4vGYqsq2Vds",
        "colab": {
          "base_uri": "https://localhost:8080/",
          "height": 315
        },
        "outputId": "822ffb71-2c40-4875-af3f-729b325cd1d1"
      },
      "source": [
        "dataset.describe()"
      ],
      "execution_count": null,
      "outputs": [
        {
          "output_type": "execute_result",
          "data": {
            "text/html": [
              "<div>\n",
              "<style scoped>\n",
              "    .dataframe tbody tr th:only-of-type {\n",
              "        vertical-align: middle;\n",
              "    }\n",
              "\n",
              "    .dataframe tbody tr th {\n",
              "        vertical-align: top;\n",
              "    }\n",
              "\n",
              "    .dataframe thead th {\n",
              "        text-align: right;\n",
              "    }\n",
              "</style>\n",
              "<table border=\"1\" class=\"dataframe\">\n",
              "  <thead>\n",
              "    <tr style=\"text-align: right;\">\n",
              "      <th></th>\n",
              "      <th>Price</th>\n",
              "      <th>Age</th>\n",
              "      <th>KM</th>\n",
              "      <th>HP</th>\n",
              "      <th>MetColor</th>\n",
              "      <th>Automatic</th>\n",
              "      <th>CC</th>\n",
              "      <th>Doors</th>\n",
              "      <th>Weight</th>\n",
              "    </tr>\n",
              "  </thead>\n",
              "  <tbody>\n",
              "    <tr>\n",
              "      <th>count</th>\n",
              "      <td>1436.000000</td>\n",
              "      <td>1436.000000</td>\n",
              "      <td>1436.000000</td>\n",
              "      <td>1436.000000</td>\n",
              "      <td>1436.000000</td>\n",
              "      <td>1436.000000</td>\n",
              "      <td>1436.000000</td>\n",
              "      <td>1436.000000</td>\n",
              "      <td>1436.00000</td>\n",
              "    </tr>\n",
              "    <tr>\n",
              "      <th>mean</th>\n",
              "      <td>10730.824513</td>\n",
              "      <td>55.947075</td>\n",
              "      <td>68533.259749</td>\n",
              "      <td>101.502089</td>\n",
              "      <td>0.674791</td>\n",
              "      <td>0.055710</td>\n",
              "      <td>1566.827994</td>\n",
              "      <td>4.033426</td>\n",
              "      <td>1072.45961</td>\n",
              "    </tr>\n",
              "    <tr>\n",
              "      <th>std</th>\n",
              "      <td>3626.964585</td>\n",
              "      <td>18.599988</td>\n",
              "      <td>37506.448872</td>\n",
              "      <td>14.981080</td>\n",
              "      <td>0.468616</td>\n",
              "      <td>0.229441</td>\n",
              "      <td>187.182436</td>\n",
              "      <td>0.952677</td>\n",
              "      <td>52.64112</td>\n",
              "    </tr>\n",
              "    <tr>\n",
              "      <th>min</th>\n",
              "      <td>4350.000000</td>\n",
              "      <td>1.000000</td>\n",
              "      <td>1.000000</td>\n",
              "      <td>69.000000</td>\n",
              "      <td>0.000000</td>\n",
              "      <td>0.000000</td>\n",
              "      <td>1300.000000</td>\n",
              "      <td>2.000000</td>\n",
              "      <td>1000.00000</td>\n",
              "    </tr>\n",
              "    <tr>\n",
              "      <th>25%</th>\n",
              "      <td>8450.000000</td>\n",
              "      <td>44.000000</td>\n",
              "      <td>43000.000000</td>\n",
              "      <td>90.000000</td>\n",
              "      <td>0.000000</td>\n",
              "      <td>0.000000</td>\n",
              "      <td>1400.000000</td>\n",
              "      <td>3.000000</td>\n",
              "      <td>1040.00000</td>\n",
              "    </tr>\n",
              "    <tr>\n",
              "      <th>50%</th>\n",
              "      <td>9900.000000</td>\n",
              "      <td>61.000000</td>\n",
              "      <td>63389.500000</td>\n",
              "      <td>110.000000</td>\n",
              "      <td>1.000000</td>\n",
              "      <td>0.000000</td>\n",
              "      <td>1600.000000</td>\n",
              "      <td>4.000000</td>\n",
              "      <td>1070.00000</td>\n",
              "    </tr>\n",
              "    <tr>\n",
              "      <th>75%</th>\n",
              "      <td>11950.000000</td>\n",
              "      <td>70.000000</td>\n",
              "      <td>87020.750000</td>\n",
              "      <td>110.000000</td>\n",
              "      <td>1.000000</td>\n",
              "      <td>0.000000</td>\n",
              "      <td>1600.000000</td>\n",
              "      <td>5.000000</td>\n",
              "      <td>1085.00000</td>\n",
              "    </tr>\n",
              "    <tr>\n",
              "      <th>max</th>\n",
              "      <td>32500.000000</td>\n",
              "      <td>80.000000</td>\n",
              "      <td>243000.000000</td>\n",
              "      <td>192.000000</td>\n",
              "      <td>1.000000</td>\n",
              "      <td>1.000000</td>\n",
              "      <td>2000.000000</td>\n",
              "      <td>5.000000</td>\n",
              "      <td>1615.00000</td>\n",
              "    </tr>\n",
              "  </tbody>\n",
              "</table>\n",
              "</div>"
            ],
            "text/plain": [
              "              Price          Age  ...        Doors      Weight\n",
              "count   1436.000000  1436.000000  ...  1436.000000  1436.00000\n",
              "mean   10730.824513    55.947075  ...     4.033426  1072.45961\n",
              "std     3626.964585    18.599988  ...     0.952677    52.64112\n",
              "min     4350.000000     1.000000  ...     2.000000  1000.00000\n",
              "25%     8450.000000    44.000000  ...     3.000000  1040.00000\n",
              "50%     9900.000000    61.000000  ...     4.000000  1070.00000\n",
              "75%    11950.000000    70.000000  ...     5.000000  1085.00000\n",
              "max    32500.000000    80.000000  ...     5.000000  1615.00000\n",
              "\n",
              "[8 rows x 9 columns]"
            ]
          },
          "metadata": {
            "tags": []
          },
          "execution_count": 12
        }
      ]
    },
    {
      "cell_type": "markdown",
      "metadata": {
        "id": "gt2CbJPq3YJx"
      },
      "source": [
        "Descriptive analysis of different variables:-\n",
        "\n",
        "1. Age: Age in years (Mean age of cars is 55 approximately, with minimum and maximum age as 1 and 80 years respectively.) \n",
        "\n",
        "2. KM: Accumulated Kilometers on odometer (Mean KM range of the given cars is 68533, with min and max range of one them is 1 and 243000 KM respectively.)\n",
        "\n",
        "3. HP: Horse Power (Mean horsepower of cars is 101.50, with minimum and maximum HP is 69 and 192 respectively.) \n",
        "\n",
        "4. MetColor: Metallic Color(Yes=1, No=0) (67.479% of cars have metallic color.)\n",
        "\n",
        "5. Automatic: Automatic (Yes=1, No=0) (Only 5.57% cars are automatic)\n",
        "\n",
        "6. CC: Cylinder Volume in cubic centimeters (On an average CC of all the cars is 1536.82, with minimum and maximum CC as 187 and 2000 respectively.) \n",
        "\n",
        "7. Doors: Number of doors ( Average no. of doors in all the cars is 4 doors and also there's car with 2 doors and 5 doors.) \n",
        "\n",
        "8. Weight: Weight in Kilograms (Average weight of all the cars is 1072 Kg, with minimum and maximum weight as 52 and 1615 Kg respectively.) \n",
        "\n",
        "9. Price: Offer Price in EUROs (Average Price of all the cars is 10730 EURO, with minimum price and maximum price as 4350 and 32500 EURO respectively.)"
      ]
    },
    {
      "cell_type": "markdown",
      "metadata": {
        "id": "kyXL4qPs3kl5"
      },
      "source": [
        "# (i) Analysing Quantitaive Observations "
      ]
    },
    {
      "cell_type": "code",
      "metadata": {
        "id": "GAvE2KrYop_4",
        "colab": {
          "base_uri": "https://localhost:8080/",
          "height": 1000
        },
        "outputId": "ac83cc72-3b60-4696-c277-03ab91e117ba"
      },
      "source": [
        "#Histogram plot\n",
        "for i in continous_variable: \n",
        "    plt.figure(figsize=(10,10))\n",
        "    dataset.hist(column = i ,color = 'white', edgecolor = 'black', grid =False)\n",
        "    plt.show()\n"
      ],
      "execution_count": null,
      "outputs": [
        {
          "output_type": "display_data",
          "data": {
            "text/plain": [
              "<Figure size 720x720 with 0 Axes>"
            ]
          },
          "metadata": {
            "tags": []
          }
        },
        {
          "output_type": "display_data",
          "data": {
            "image/png": "[encoded data removed]",
            "text/plain": [
              "<Figure size 432x288 with 1 Axes>"
            ]
          },
          "metadata": {
            "tags": [],
            "needs_background": "light"
          }
        },
        {
          "output_type": "display_data",
          "data": {
            "text/plain": [
              "<Figure size 720x720 with 0 Axes>"
            ]
          },
          "metadata": {
            "tags": []
          }
        },
        {
          "output_type": "display_data",
          "data": {
            "image/png": "[encoded data removed]",
            "text/plain": [
              "<Figure size 432x288 with 1 Axes>"
            ]
          },
          "metadata": {
            "tags": [],
            "needs_background": "light"
          }
        },
        {
          "output_type": "display_data",
          "data": {
            "text/plain": [
              "<Figure size 720x720 with 0 Axes>"
            ]
          },
          "metadata": {
            "tags": []
          }
        },
        {
          "output_type": "display_data",
          "data": {
            "image/png": "[encoded data removed]",
            "text/plain": [
              "<Figure size 432x288 with 1 Axes>"
            ]
          },
          "metadata": {
            "tags": [],
            "needs_background": "light"
          }
        },
        {
          "output_type": "display_data",
          "data": {
            "text/plain": [
              "<Figure size 720x720 with 0 Axes>"
            ]
          },
          "metadata": {
            "tags": []
          }
        },
        {
          "output_type": "display_data",
          "data": {
            "image/png": "[encoded data removed]",
            "text/plain": [
              "<Figure size 432x288 with 1 Axes>"
            ]
          },
          "metadata": {
            "tags": [],
            "needs_background": "light"
          }
        }
      ]
    },
    {
      "cell_type": "markdown",
      "metadata": {
        "id": "EFKLLsG5oq33"
      },
      "source": [
        "1. 'Price' variable is positively skewed, representing that most of the cars lies in the range 5000-15000 EURO.\n",
        "2. 'Age' of the given cars is negatively skewed data representing that people prefer cars with high durability.\n",
        "3. 'KM' variable is postively skewed with most of the car lie in range (25000 to 100000)KM.\n",
        "4. 'Weight' is Positively skewed, representing that people prefer more cars with less weight and vice-versa. "
      ]
    },
    {
      "cell_type": "markdown",
      "metadata": {
        "id": "2Ji-rFaUMgr7"
      },
      "source": [
        "## ii) Analyzing Qualitative Observations"
      ]
    },
    {
      "cell_type": "markdown",
      "metadata": {
        "id": "eU6q-e6usE6w"
      },
      "source": [
        "#### Checking what are the different levels of the Qualitative variable in our data set "
      ]
    },
    {
      "cell_type": "code",
      "metadata": {
        "colab": {
          "base_uri": "https://localhost:8080/"
        },
        "id": "CCdfnpeWnp6t",
        "outputId": "670a88d5-48f1-4e60-ebc5-a113d5e293ff"
      },
      "source": [
        "dataset.describe(include = np.object)\n",
        "discrete_variables = [features for features in dataset.columns if len(np.unique(dataset[features]))<=25]\n",
        "for i in discrete_variables:\n",
        "  print(\"levels of \"+i+\" are-\")\n",
        "  print(dataset[i].unique())\n"
      ],
      "execution_count": null,
      "outputs": [
        {
          "output_type": "stream",
          "text": [
            "levels of FuelType are-\n",
            "['Diesel' 'Petrol' 'CNG']\n",
            "levels of HP are-\n",
            "[ 90 192  69 110  97  71 116  98  86  72 107  73]\n",
            "levels of MetColor are-\n",
            "[1 0]\n",
            "levels of Automatic are-\n",
            "[0 1]\n",
            "levels of CC are-\n",
            "[2000 1800 1900 1600 1400 1598 1995 1398 1300 1587 1975 1332]\n",
            "levels of Doors are-\n",
            "[3 5 4 2]\n"
          ],
          "name": "stdout"
        }
      ]
    },
    {
      "cell_type": "markdown",
      "metadata": {
        "id": "gj5LHyxYEUtL"
      },
      "source": [
        "Total number of levels in each of the variables:\n",
        "1. FuelType- 3\n",
        "2. HP-12\n",
        "3. MetColor-2\n",
        "4. Automatic-2\n",
        "5. CC-12\n",
        "6. Doors-4\n",
        "\n"
      ]
    },
    {
      "cell_type": "markdown",
      "metadata": {
        "id": "ncqbebXjsOCJ"
      },
      "source": [
        "#### Plotting count plot for each qualitative variable to graphically see number of observation belonging to each levels "
      ]
    },
    {
      "cell_type": "code",
      "metadata": {
        "colab": {
          "base_uri": "https://localhost:8080/",
          "height": 1000
        },
        "id": "Yp1CxafooU-r",
        "outputId": "92d4b11d-2de5-4cb1-c749-ecefa6d1363f"
      },
      "source": [
        "for i in discrete_variables: \n",
        "    sns.countplot(x= i,data=dataset)\n",
        "    plt.show()\n",
        "\n"
      ],
      "execution_count": null,
      "outputs": [
        {
          "output_type": "display_data",
          "data": {
            "image/png": "[encoded data removed]",
            "text/plain": [
              "<Figure size 432x288 with 1 Axes>"
            ]
          },
          "metadata": {
            "tags": [],
            "needs_background": "light"
          }
        },
        {
          "output_type": "display_data",
          "data": {
            "image/png": "[encoded data removed]",
            "text/plain": [
              "<Figure size 432x288 with 1 Axes>"
            ]
          },
          "metadata": {
            "tags": [],
            "needs_background": "light"
          }
        },
        {
          "output_type": "display_data",
          "data": {
            "image/png": "[encoded data removed]",
            "text/plain": [
              "<Figure size 432x288 with 1 Axes>"
            ]
          },
          "metadata": {
            "tags": [],
            "needs_background": "light"
          }
        },
        {
          "output_type": "display_data",
          "data": {
            "image/png": "[encoded data removed]",
            "text/plain": [
              "<Figure size 432x288 with 1 Axes>"
            ]
          },
          "metadata": {
            "tags": [],
            "needs_background": "light"
          }
        },
        {
          "output_type": "display_data",
          "data": {
            "image/png": "[encoded data removed]",
            "text/plain": [
              "<Figure size 432x288 with 1 Axes>"
            ]
          },
          "metadata": {
            "tags": [],
            "needs_background": "light"
          }
        },
        {
          "output_type": "display_data",
          "data": {
            "image/png": "[encoded data removed]",
            "text/plain": [
              "<Figure size 432x288 with 1 Axes>"
            ]
          },
          "metadata": {
            "tags": [],
            "needs_background": "light"
          }
        }
      ]
    },
    {
      "cell_type": "markdown",
      "metadata": {
        "id": "6ClE6w4iH2-V"
      },
      "source": [
        ""
      ]
    },
    {
      "cell_type": "markdown",
      "metadata": {
        "id": "xhu4cb45R9-r"
      },
      "source": [
        "#Bivariate Analysis\n",
        "\n",
        "## i)Quantitative Observations"
      ]
    },
    {
      "cell_type": "code",
      "metadata": {
        "colab": {
          "base_uri": "https://localhost:8080/",
          "height": 327
        },
        "id": "LUoI1IBUpsyo",
        "outputId": "8a516061-ac17-4705-ac70-2bfa628aeea4"
      },
      "source": [
        "sns.heatmap(dataset.corr(),annot=True)\n"
      ],
      "execution_count": null,
      "outputs": [
        {
          "output_type": "execute_result",
          "data": {
            "text/plain": [
              "<matplotlib.axes._subplots.AxesSubplot at 0x7f138470aad0>"
            ]
          },
          "metadata": {
            "tags": []
          },
          "execution_count": 43
        },
        {
          "output_type": "display_data",
          "data": {
            "image/png": "[encoded data removed]",
            "text/plain": [
              "<Figure size 432x288 with 2 Axes>"
            ]
          },
          "metadata": {
            "tags": [],
            "needs_background": "light"
          }
        }
      ]
    },
    {
      "cell_type": "markdown",
      "metadata": {
        "id": "4x3YuDMt3-BK"
      },
      "source": [
        "From above we can see that price variable is highly negatively correlated with the age of car and also significantly negatively  correlated with the KM  of car and significantly positively correlated with the Weight of car \n",
        "** \n",
        "1. Correlation Between Price and age of the Cars is -0.88 i.e. High Negative Correlation.\n",
        "2. Correlation Between Price and weight of the Cars is 0.58 i.e. Mild Positive Correlation.\n"
      ]
    },
    {
      "cell_type": "code",
      "metadata": {
        "colab": {
          "base_uri": "https://localhost:8080/",
          "height": 1000
        },
        "id": "1vePL8mto8dc",
        "outputId": "18b49e58-0c3e-4bb8-d41d-f5c023b78fb1"
      },
      "source": [
        "continous_variable.remove('Price')\n",
        "for i in continous_variable:\n",
        "    sns.regplot(y='Price', x= i, data =dataset)\n",
        "    plt.show()\n",
        "    print(dataset[[i,'Price']].corr().round(5))\n",
        "    c,p = stats.pearsonr(dataset[i],dataset['Price'])\n",
        "    print('p-value = %f' % p)"
      ],
      "execution_count": null,
      "outputs": [
        {
          "output_type": "display_data",
          "data": {
            "image/png": "[encoded data removed]",
            "text/plain": [
              "<Figure size 432x288 with 1 Axes>"
            ]
          },
          "metadata": {
            "tags": [],
            "needs_background": "light"
          }
        },
        {
          "output_type": "stream",
          "text": [
            "           Age    Price\n",
            "Age    1.00000 -0.87659\n",
            "Price -0.87659  1.00000\n",
            "p-value = 0.000000\n"
          ],
          "name": "stdout"
        },
        {
          "output_type": "display_data",
          "data": {
            "image/png": "[encoded data removed]",
            "text/plain": [
              "<Figure size 432x288 with 1 Axes>"
            ]
          },
          "metadata": {
            "tags": [],
            "needs_background": "light"
          }
        },
        {
          "output_type": "stream",
          "text": [
            "            KM    Price\n",
            "KM     1.00000 -0.56996\n",
            "Price -0.56996  1.00000\n",
            "p-value = 0.000000\n"
          ],
          "name": "stdout"
        },
        {
          "output_type": "display_data",
          "data": {
            "image/png": "[encoded data removed]",
            "text/plain": [
              "<Figure size 432x288 with 1 Axes>"
            ]
          },
          "metadata": {
            "tags": [],
            "needs_background": "light"
          }
        },
        {
          "output_type": "stream",
          "text": [
            "        Weight   Price\n",
            "Weight  1.0000  0.5812\n",
            "Price   0.5812  1.0000\n",
            "p-value = 0.000000\n"
          ],
          "name": "stdout"
        }
      ]
    },
    {
      "cell_type": "markdown",
      "metadata": {
        "id": "ogoyfbSWrW_3"
      },
      "source": [
        "From above test and p -value we infer that there is significant correlation among Price V/s Age , weight , KM of car  as we got all p-value approximately equal to 0.\n",
        "\n",
        "\n",
        "\n",
        "\n",
        "** After Performing Correlation coefficient test, we conclude that p-value between all the tested pairs is 0,thus we can say the Price and age,Price and Km,price and Weight of the cars is Significantly Correlated.\n"
      ]
    },
    {
      "cell_type": "markdown",
      "metadata": {
        "id": "l7BhRCllTSfE"
      },
      "source": [
        "#ii)Qualitative Observations"
      ]
    },
    {
      "cell_type": "code",
      "metadata": {
        "colab": {
          "base_uri": "https://localhost:8080/",
          "height": 1000
        },
        "id": "NRc60N-pT_2l",
        "outputId": "81f0fc68-b80d-491d-f054-e800768a1fdb"
      },
      "source": [
        "for i in discrete_variables:\n",
        "    plt.figure(figsize = (10,5))\n",
        "    sns.boxplot(x = dataset[i],y =dataset['Price'])\n",
        "    aa=dataset[i].unique()\n",
        "    if(len(aa)==2):\n",
        "        t,p = stats.ttest_ind(dataset['Price'][dataset[i]==aa[0]],dataset['Price'][dataset[i]==aa[1]], equal_var = False)\n",
        "        print(\"t-statistic for independent t-test on Price wrt \"+i+\" = %.4f and p-value = %.4f\" % (t,p))\n"
      ],
      "execution_count": null,
      "outputs": [
        {
          "output_type": "stream",
          "text": [
            "t-statistic for independent t-test on Price wrt MetColor = 4.3981 and p-value = 0.0000\n",
            "t-statistic for independent t-test on Price wrt Automatic = -1.2499 and p-value = 0.2146\n"
          ],
          "name": "stdout"
        },
        {
          "output_type": "display_data",
          "data": {
            "image/png": "[encoded data removed]",
            "text/plain": [
              "<Figure size 720x360 with 1 Axes>"
            ]
          },
          "metadata": {
            "tags": [],
            "needs_background": "light"
          }
        },
        {
          "output_type": "display_data",
          "data": {
            "image/png": "[encoded data removed]",
            "text/plain": [
              "<Figure size 720x360 with 1 Axes>"
            ]
          },
          "metadata": {
            "tags": [],
            "needs_background": "light"
          }
        },
        {
          "output_type": "display_data",
          "data": {
            "image/png": "[encoded data removed]",
            "text/plain": [
              "<Figure size 720x360 with 1 Axes>"
            ]
          },
          "metadata": {
            "tags": [],
            "needs_background": "light"
          }
        },
        {
          "output_type": "display_data",
          "data": {
            "image/png": "[encoded data removed]",
            "text/plain": [
              "<Figure size 720x360 with 1 Axes>"
            ]
          },
          "metadata": {
            "tags": [],
            "needs_background": "light"
          }
        },
        {
          "output_type": "display_data",
          "data": {
            "image/png": "[encoded data removed]",
            "text/plain": [
              "<Figure size 720x360 with 1 Axes>"
            ]
          },
          "metadata": {
            "tags": [],
            "needs_background": "light"
          }
        },
        {
          "output_type": "display_data",
          "data": {
            "image/png": "[encoded data removed]",
            "text/plain": [
              "<Figure size 720x360 with 1 Axes>"
            ]
          },
          "metadata": {
            "tags": [],
            "needs_background": "light"
          }
        }
      ]
    },
    {
      "cell_type": "markdown",
      "metadata": {
        "id": "ql1YmIjnbUAz"
      },
      "source": [
        "Here we performed t  test to test whether there is significant differece in the mean price belonging to each levels for different variable . \\\\\n",
        "We found that Variable metcolor has no difference \\\\\n",
        "But automatic variable has significant difference in the mean price of car belonging to each levels of automatic variable \n",
        "**\n"
      ]
    },
    {
      "cell_type": "markdown",
      "metadata": {
        "id": "6Y8Yly_Nz0wb"
      },
      "source": [
        "# Fitting Linear Regression model based on the information from EDA (Exploratory Data Analysis)\n"
      ]
    },
    {
      "cell_type": "markdown",
      "metadata": {
        "id": "KcHlmbg6Gq84"
      },
      "source": [
        "#Forming independent and dependent variables"
      ]
    },
    {
      "cell_type": "code",
      "metadata": {
        "id": "RuU0ViisG7k3"
      },
      "source": [
        "dataset1=dataset\n",
        "dataset1.drop('Automatic',axis=1,inplace=True)\n",
        "dataset1=pd.get_dummies(dataset1,drop_first=True)\n",
        "x = dataset1.drop('Price', axis = 1)\n",
        "y = dataset1['Price']\n"
      ],
      "execution_count": null,
      "outputs": []
    },
    {
      "cell_type": "markdown",
      "metadata": {
        "id": "aVjm88jYue2j"
      },
      "source": [
        "# Splitting Data in training set and test set"
      ]
    },
    {
      "cell_type": "code",
      "metadata": {
        "id": "2MilFR94ukXK"
      },
      "source": [
        "# Splitting the data in the training set and testing set\n",
        "X_train, X_test, y_train, y_test = train_test_split(x, y, test_size = 0.25, random_state = 42)  "
      ],
      "execution_count": null,
      "outputs": []
    },
    {
      "cell_type": "markdown",
      "metadata": {
        "id": "CvJpNEJauqju"
      },
      "source": [
        "# Fitting Linear regression model on training dataset"
      ]
    },
    {
      "cell_type": "code",
      "metadata": {
        "colab": {
          "base_uri": "https://localhost:8080/",
          "height": 609
        },
        "id": "NzNjQ9qluosx",
        "outputId": "afed886d-0ec3-45d1-919a-dd1cb4d6ebbc"
      },
      "source": [
        "regressor_linear = LinearRegression()\n",
        "regressor_linear.fit(X_train, y_train)\n",
        "\n",
        "import statsmodels.api as sm\n",
        "model = sm.OLS(y_train ,X_train)\n",
        "m  = model.fit()\n",
        "m.summary()"
      ],
      "execution_count": null,
      "outputs": [
        {
          "output_type": "execute_result",
          "data": {
            "text/html": [
              "<table class=\"simpletable\">\n",
              "<caption>OLS Regression Results</caption>\n",
              "<tr>\n",
              "  <th>Dep. Variable:</th>          <td>Price</td>      <th>  R-squared (uncentered):</th>      <td>   0.987</td> \n",
              "</tr>\n",
              "<tr>\n",
              "  <th>Model:</th>                   <td>OLS</td>       <th>  Adj. R-squared (uncentered):</th> <td>   0.987</td> \n",
              "</tr>\n",
              "<tr>\n",
              "  <th>Method:</th>             <td>Least Squares</td>  <th>  F-statistic:       </th>          <td>   8849.</td> \n",
              "</tr>\n",
              "<tr>\n",
              "  <th>Date:</th>             <td>Tue, 08 Jun 2021</td> <th>  Prob (F-statistic):</th>           <td>  0.00</td>  \n",
              "</tr>\n",
              "<tr>\n",
              "  <th>Time:</th>                 <td>05:30:32</td>     <th>  Log-Likelihood:    </th>          <td> -9253.8</td> \n",
              "</tr>\n",
              "<tr>\n",
              "  <th>No. Observations:</th>      <td>  1077</td>      <th>  AIC:               </th>          <td>1.853e+04</td>\n",
              "</tr>\n",
              "<tr>\n",
              "  <th>Df Residuals:</th>          <td>  1068</td>      <th>  BIC:               </th>          <td>1.857e+04</td>\n",
              "</tr>\n",
              "<tr>\n",
              "  <th>Df Model:</th>              <td>     9</td>      <th>                     </th>              <td> </td>    \n",
              "</tr>\n",
              "<tr>\n",
              "  <th>Covariance Type:</th>      <td>nonrobust</td>    <th>                     </th>              <td> </td>    \n",
              "</tr>\n",
              "</table>\n",
              "<table class=\"simpletable\">\n",
              "<tr>\n",
              "         <td></td>            <th>coef</th>     <th>std err</th>      <th>t</th>      <th>P>|t|</th>  <th>[0.025</th>    <th>0.975]</th>  \n",
              "</tr>\n",
              "<tr>\n",
              "  <th>Age</th>             <td> -125.8432</td> <td>    2.754</td> <td>  -45.691</td> <td> 0.000</td> <td> -131.247</td> <td> -120.439</td>\n",
              "</tr>\n",
              "<tr>\n",
              "  <th>KM</th>              <td>   -0.0160</td> <td>    0.002</td> <td>  -10.563</td> <td> 0.000</td> <td>   -0.019</td> <td>   -0.013</td>\n",
              "</tr>\n",
              "<tr>\n",
              "  <th>HP</th>              <td>   57.6495</td> <td>    6.037</td> <td>    9.549</td> <td> 0.000</td> <td>   45.803</td> <td>   69.496</td>\n",
              "</tr>\n",
              "<tr>\n",
              "  <th>MetColor</th>        <td>   91.6889</td> <td>   85.274</td> <td>    1.075</td> <td> 0.283</td> <td>  -75.634</td> <td>  259.012</td>\n",
              "</tr>\n",
              "<tr>\n",
              "  <th>CC</th>              <td>   -3.9828</td> <td>    0.599</td> <td>   -6.644</td> <td> 0.000</td> <td>   -5.159</td> <td>   -2.807</td>\n",
              "</tr>\n",
              "<tr>\n",
              "  <th>Doors</th>           <td>   20.9599</td> <td>   44.263</td> <td>    0.474</td> <td> 0.636</td> <td>  -65.893</td> <td>  107.813</td>\n",
              "</tr>\n",
              "<tr>\n",
              "  <th>Weight</th>          <td>   16.9662</td> <td>    0.636</td> <td>   26.664</td> <td> 0.000</td> <td>   15.718</td> <td>   18.215</td>\n",
              "</tr>\n",
              "<tr>\n",
              "  <th>FuelType_Diesel</th> <td> 2975.3479</td> <td>  563.590</td> <td>    5.279</td> <td> 0.000</td> <td> 1869.479</td> <td> 4081.217</td>\n",
              "</tr>\n",
              "<tr>\n",
              "  <th>FuelType_Petrol</th> <td>  716.3100</td> <td>  342.117</td> <td>    2.094</td> <td> 0.037</td> <td>   45.013</td> <td> 1387.607</td>\n",
              "</tr>\n",
              "</table>\n",
              "<table class=\"simpletable\">\n",
              "<tr>\n",
              "  <th>Omnibus:</th>       <td>102.767</td> <th>  Durbin-Watson:     </th> <td>   2.107</td> \n",
              "</tr>\n",
              "<tr>\n",
              "  <th>Prob(Omnibus):</th> <td> 0.000</td>  <th>  Jarque-Bera (JB):  </th> <td> 654.534</td> \n",
              "</tr>\n",
              "<tr>\n",
              "  <th>Skew:</th>          <td>-0.104</td>  <th>  Prob(JB):          </th> <td>7.41e-143</td>\n",
              "</tr>\n",
              "<tr>\n",
              "  <th>Kurtosis:</th>      <td> 6.813</td>  <th>  Cond. No.          </th> <td>1.22e+06</td> \n",
              "</tr>\n",
              "</table><br/><br/>Warnings:<br/>[1] Standard Errors assume that the covariance matrix of the errors is correctly specified.<br/>[2] The condition number is large, 1.22e+06. This might indicate that there are<br/>strong multicollinearity or other numerical problems."
            ],
            "text/plain": [
              "<class 'statsmodels.iolib.summary.Summary'>\n",
              "\"\"\"\n",
              "                                 OLS Regression Results                                \n",
              "=======================================================================================\n",
              "Dep. Variable:                  Price   R-squared (uncentered):                   0.987\n",
              "Model:                            OLS   Adj. R-squared (uncentered):              0.987\n",
              "Method:                 Least Squares   F-statistic:                              8849.\n",
              "Date:                Tue, 08 Jun 2021   Prob (F-statistic):                        0.00\n",
              "Time:                        05:30:32   Log-Likelihood:                         -9253.8\n",
              "No. Observations:                1077   AIC:                                  1.853e+04\n",
              "Df Residuals:                    1068   BIC:                                  1.857e+04\n",
              "Df Model:                           9                                                  \n",
              "Covariance Type:            nonrobust                                                  \n",
              "===================================================================================\n",
              "                      coef    std err          t      P>|t|      [0.025      0.975]\n",
              "-----------------------------------------------------------------------------------\n",
              "Age              -125.8432      2.754    -45.691      0.000    -131.247    -120.439\n",
              "KM                 -0.0160      0.002    -10.563      0.000      -0.019      -0.013\n",
              "HP                 57.6495      6.037      9.549      0.000      45.803      69.496\n",
              "MetColor           91.6889     85.274      1.075      0.283     -75.634     259.012\n",
              "CC                 -3.9828      0.599     -6.644      0.000      -5.159      -2.807\n",
              "Doors              20.9599     44.263      0.474      0.636     -65.893     107.813\n",
              "Weight             16.9662      0.636     26.664      0.000      15.718      18.215\n",
              "FuelType_Diesel  2975.3479    563.590      5.279      0.000    1869.479    4081.217\n",
              "FuelType_Petrol   716.3100    342.117      2.094      0.037      45.013    1387.607\n",
              "==============================================================================\n",
              "Omnibus:                      102.767   Durbin-Watson:                   2.107\n",
              "Prob(Omnibus):                  0.000   Jarque-Bera (JB):              654.534\n",
              "Skew:                          -0.104   Prob(JB):                    7.41e-143\n",
              "Kurtosis:                       6.813   Cond. No.                     1.22e+06\n",
              "==============================================================================\n",
              "\n",
              "Warnings:\n",
              "[1] Standard Errors assume that the covariance matrix of the errors is correctly specified.\n",
              "[2] The condition number is large, 1.22e+06. This might indicate that there are\n",
              "strong multicollinearity or other numerical problems.\n",
              "\"\"\""
            ]
          },
          "metadata": {
            "tags": []
          },
          "execution_count": 23
        }
      ]
    },
    {
      "cell_type": "markdown",
      "metadata": {
        "id": "aFR4q2XnbhNc"
      },
      "source": [
        "#i)Multicollinearity"
      ]
    },
    {
      "cell_type": "code",
      "metadata": {
        "colab": {
          "base_uri": "https://localhost:8080/",
          "height": 321
        },
        "id": "848RBgm1bpme",
        "outputId": "1225d0a3-3f76-4380-d207-325719cd95d0"
      },
      "source": [
        "dataset1=dataset\n",
        "dataset1.drop('Automatic',axis=1,inplace=True)\n",
        "dataset1=pd.get_dummies(dataset1,drop_first=True)\n",
        "x = dataset1.drop('Price', axis = 1)\n",
        "y = dataset1['Price']\n",
        "def calc_vif(X):\n",
        "    vif = pd.DataFrame()\n",
        "    vif[\"variables\"] = X.columns\n",
        "    vif[\"VIF\"] =[variance_inflation_factor(X.values, i) for i in range(X.shape[1])]\n",
        "    return(vif)\n",
        "calc_vif(x)"
      ],
      "execution_count": null,
      "outputs": [
        {
          "output_type": "execute_result",
          "data": {
            "text/html": [
              "<div>\n",
              "<style scoped>\n",
              "    .dataframe tbody tr th:only-of-type {\n",
              "        vertical-align: middle;\n",
              "    }\n",
              "\n",
              "    .dataframe tbody tr th {\n",
              "        vertical-align: top;\n",
              "    }\n",
              "\n",
              "    .dataframe thead th {\n",
              "        text-align: right;\n",
              "    }\n",
              "</style>\n",
              "<table border=\"1\" class=\"dataframe\">\n",
              "  <thead>\n",
              "    <tr style=\"text-align: right;\">\n",
              "      <th></th>\n",
              "      <th>variables</th>\n",
              "      <th>VIF</th>\n",
              "    </tr>\n",
              "  </thead>\n",
              "  <tbody>\n",
              "    <tr>\n",
              "      <th>0</th>\n",
              "      <td>Age</td>\n",
              "      <td>17.061314</td>\n",
              "    </tr>\n",
              "    <tr>\n",
              "      <th>1</th>\n",
              "      <td>KM</td>\n",
              "      <td>8.563006</td>\n",
              "    </tr>\n",
              "    <tr>\n",
              "      <th>2</th>\n",
              "      <td>HP</td>\n",
              "      <td>237.427841</td>\n",
              "    </tr>\n",
              "    <tr>\n",
              "      <th>3</th>\n",
              "      <td>MetColor</td>\n",
              "      <td>3.137647</td>\n",
              "    </tr>\n",
              "    <tr>\n",
              "      <th>4</th>\n",
              "      <td>CC</td>\n",
              "      <td>545.841955</td>\n",
              "    </tr>\n",
              "    <tr>\n",
              "      <th>5</th>\n",
              "      <td>Doors</td>\n",
              "      <td>21.365453</td>\n",
              "    </tr>\n",
              "    <tr>\n",
              "      <th>6</th>\n",
              "      <td>Weight</td>\n",
              "      <td>286.189767</td>\n",
              "    </tr>\n",
              "    <tr>\n",
              "      <th>7</th>\n",
              "      <td>FuelType_Diesel</td>\n",
              "      <td>22.496063</td>\n",
              "    </tr>\n",
              "    <tr>\n",
              "      <th>8</th>\n",
              "      <td>FuelType_Petrol</td>\n",
              "      <td>68.980810</td>\n",
              "    </tr>\n",
              "  </tbody>\n",
              "</table>\n",
              "</div>"
            ],
            "text/plain": [
              "         variables         VIF\n",
              "0              Age   17.061314\n",
              "1               KM    8.563006\n",
              "2               HP  237.427841\n",
              "3         MetColor    3.137647\n",
              "4               CC  545.841955\n",
              "5            Doors   21.365453\n",
              "6           Weight  286.189767\n",
              "7  FuelType_Diesel   22.496063\n",
              "8  FuelType_Petrol   68.980810"
            ]
          },
          "metadata": {
            "tags": []
          },
          "execution_count": 15
        }
      ]
    },
    {
      "cell_type": "markdown",
      "metadata": {
        "id": "plPN_x4Gt3JM"
      },
      "source": [
        "We can see that VIF ( Variance Inflation factor ) of lots of variable coefficient is extrememly larger than 5 thus we conclude that there is severe effect of multicollinearity on our fitted regression model . Thus we have decided to fit Ridge regression to handle the effect of multicollinearity in our model fit ."
      ]
    },
    {
      "cell_type": "markdown",
      "metadata": {
        "id": "BMMUYC8lcw2J"
      },
      "source": [
        "#Ridge Regression"
      ]
    },
    {
      "cell_type": "code",
      "metadata": {
        "colab": {
          "base_uri": "https://localhost:8080/"
        },
        "id": "3Li7ztZ7Vcst",
        "outputId": "9c505cc6-c5ad-4b36-fc10-b1736fe99fd3"
      },
      "source": [
        "ridge=Ridge()\n",
        "parameters={'alpha':[1e-15,1e-10,1e-5,1e-3,1e-2,1,5,10,20,30,35,40,45,50,55,100]}\n",
        "ridge_regressor=GridSearchCV(ridge,parameters,scoring=\"neg_mean_squared_error\",cv=10)\n",
        "ridge_regressor.fit(X_train,y_train)"
      ],
      "execution_count": null,
      "outputs": [
        {
          "output_type": "execute_result",
          "data": {
            "text/plain": [
              "GridSearchCV(cv=10, error_score=nan,\n",
              "             estimator=Ridge(alpha=1.0, copy_X=True, fit_intercept=True,\n",
              "                             max_iter=None, normalize=False, random_state=None,\n",
              "                             solver='auto', tol=0.001),\n",
              "             iid='deprecated', n_jobs=None,\n",
              "             param_grid={'alpha': [1e-15, 1e-10, 1e-05, 0.001, 0.01, 1, 5, 10,\n",
              "                                   20, 30, 35, 40, 45, 50, 55, 100]},\n",
              "             pre_dispatch='2*n_jobs', refit=True, return_train_score=False,\n",
              "             scoring='neg_mean_squared_error', verbose=0)"
            ]
          },
          "metadata": {
            "tags": []
          },
          "execution_count": 20
        }
      ]
    },
    {
      "cell_type": "markdown",
      "metadata": {
        "id": "pYU855r1FbIr"
      },
      "source": [
        "#Comparing Linear and Ridge regression"
      ]
    },
    {
      "cell_type": "code",
      "metadata": {
        "colab": {
          "base_uri": "https://localhost:8080/"
        },
        "id": "3hFRJI0qFgX_",
        "outputId": "3e3a974b-88c8-486e-cc5f-689ccdbfa8c0"
      },
      "source": [
        "print(\"Test R2-score for linear regression=\",r2_score(y_test,regressor_linear.predict(X_test)))\n",
        "print(\"Test R2-score for ridge regression=\",r2_score(y_test,ridge_regressor.predict(X_test)))"
      ],
      "execution_count": null,
      "outputs": [
        {
          "output_type": "stream",
          "text": [
            "Test R2-score for linear regression= 0.861187471675618\n",
            "Test R2-score for ridge regression= 0.8568332869896795\n"
          ],
          "name": "stdout"
        }
      ]
    },
    {
      "cell_type": "markdown",
      "metadata": {
        "id": "DcJ4BjWAHIe0"
      },
      "source": [
        "Since not much improvement is achieved by Ridge regression so now we try fitting data with Random Forest"
      ]
    },
    {
      "cell_type": "markdown",
      "metadata": {
        "id": "Dn9fBWZIdLoA"
      },
      "source": [
        "#Random Forest"
      ]
    },
    {
      "cell_type": "code",
      "metadata": {
        "colab": {
          "base_uri": "https://localhost:8080/",
          "height": 382
        },
        "id": "O0PtFNQI1i8m",
        "outputId": "475bc72f-beb7-4333-c835-f7abfc8fd0a9"
      },
      "source": [
        "para=[10,20,30,50,70,90,100,130,150,170,200,230,260,280,300]\n",
        "rmse_arr_para=[]\n",
        "for i in para:\n",
        "    RFRg = RandomForestRegressor(n_estimators = i, random_state = 0)\n",
        "    RFRg.fit(X_train, y_train)\n",
        "    rmse_arr_para.append(np.sqrt(mean_squared_error(y_test,RFRg.predict(X_test))))\n",
        "plt.plot(para,rmse_arr_para)\n",
        "\n",
        "RFRg = RandomForestRegressor(n_estimators = 300, random_state = 0)\n",
        "RFRg.fit(X_train, y_train)"
      ],
      "execution_count": null,
      "outputs": [
        {
          "output_type": "execute_result",
          "data": {
            "text/plain": [
              "RandomForestRegressor(bootstrap=True, ccp_alpha=0.0, criterion='mse',\n",
              "                      max_depth=None, max_features='auto', max_leaf_nodes=None,\n",
              "                      max_samples=None, min_impurity_decrease=0.0,\n",
              "                      min_impurity_split=None, min_samples_leaf=1,\n",
              "                      min_samples_split=2, min_weight_fraction_leaf=0.0,\n",
              "                      n_estimators=300, n_jobs=None, oob_score=False,\n",
              "                      random_state=0, verbose=0, warm_start=False)"
            ]
          },
          "metadata": {
            "tags": []
          },
          "execution_count": 36
        },
        {
          "output_type": "display_data",
          "data": {
            "image/png": "[encoded data removed]",
            "text/plain": [
              "<Figure size 432x288 with 1 Axes>"
            ]
          },
          "metadata": {
            "tags": [],
            "needs_background": "light"
          }
        }
      ]
    },
    {
      "cell_type": "markdown",
      "metadata": {
        "id": "RLe5ig2R5CGP"
      },
      "source": [
        "Here we have taken Different number of base learner ranging from 10 to 300 and plotted above graph the RMSE value of prediction errror while fitting randomforest regression with varying base learner and it is clear from the graph that Random forest regressor model RMSE first decrease drastically in base learner range 10-50 and there is lay off after that and we have got minimum RMSE by training 300 base learner tree  for the training data ."
      ]
    },
    {
      "cell_type": "markdown",
      "metadata": {
        "id": "pMXkNlzJdXZM"
      },
      "source": [
        "#Model Selection\n",
        "Below we are calculating the RMSE value of our above trained model i.e. Linear regression , Ridge Regression ,Random forest regression . Our aim is to find the model which have minimum prediction error i.e. minimum RMSE value of all the models"
      ]
    },
    {
      "cell_type": "code",
      "metadata": {
        "colab": {
          "base_uri": "https://localhost:8080/",
          "height": 382
        },
        "id": "1WdWmrz81s5c",
        "outputId": "eb93b7e7-9907-4179-8dbc-49161c85f15d"
      },
      "source": [
        "print(\"Test Root mean squared error for linear regression=\",np.sqrt(mean_squared_error(y_test,regressor_linear.predict(X_test))))\n",
        "print(\"Test Root mean squared error for ridge regression=\",np.sqrt(mean_squared_error(y_test,ridge_regressor.predict(X_test))))\n",
        "print(\"Test Root mean squared error for Random Forest regression=\",np.sqrt(mean_squared_error(y_test,RFRg.predict(X_test))))\n",
        "print(\"Test R2-score for linear regression=\",r2_score(y_test,regressor_linear.predict(X_test)))\n",
        "print(\"Test R2-score for ridge regression=\",r2_score(y_test,ridge_regressor.predict(X_test)))\n",
        "print(\"Test R2-score for Random Forest regression=\",r2_score(y_test,RFRg.predict(X_test)))\n",
        "plt.bar(['linear','ridge','Random Forest'],[np.sqrt(mean_squared_error(y_test,regressor_linear.predict(X_test))),np.sqrt(mean_squared_error(y_test,ridge_regressor.predict(X_test))),np.sqrt(mean_squared_error(y_test,RFRg.predict(X_test)))] , color ='maroon',width = 0.4)\n",
        "plt.title(\"RMSE values\")\n",
        "plt.show()\n",
        "\n"
      ],
      "execution_count": null,
      "outputs": [
        {
          "output_type": "stream",
          "text": [
            "Test Root mean squared error for linear regression= 1403.5216503559805\n",
            "Test Root mean squared error for ridge regression= 1425.3640831794412\n",
            "Test Root mean squared error for Random Forest regression= 1100.9134699200797\n",
            "Test R2-score for linear regression= 0.861187471675618\n",
            "Test R2-score for ridge regression= 0.8568332869896798\n",
            "Test R2-score for Random Forest regression= 0.9145923440304561\n"
          ],
          "name": "stdout"
        },
        {
          "output_type": "display_data",
          "data": {
            "image/png": "[encoded data removed]",
            "text/plain": [
              "<Figure size 432x288 with 1 Axes>"
            ]
          },
          "metadata": {
            "tags": [],
            "needs_background": "light"
          }
        }
      ]
    },
    {
      "cell_type": "markdown",
      "metadata": {
        "id": "Nexfmjfv6MGO"
      },
      "source": [
        "From the above graph it is clear that RMSE value of random forest model is smallest compared to other two model namely linear regression model and ridge regression model . \n",
        "So , Now we consider further Randomforest model for further prediction part of the Car Price of the Toyota Corola car based on the given input feature "
      ]
    },
    {
      "cell_type": "markdown",
      "metadata": {
        "id": "TTTGQrV7d9jY"
      },
      "source": [
        "## Illustrating the Prediction of our model i.e. Prediction of car price for given feature of car "
      ]
    },
    {
      "cell_type": "code",
      "metadata": {
        "id": "6JG9_Uzs2OqD"
      },
      "source": [
        "input_para=[]\n",
        "for k in X_train.columns:\n",
        "    s=input(\"Input \"+k+\" \")\n",
        "    input_para.append(int(s))\n",
        "print(input_para)\n",
        "RFRg.predict([input_para])\n"
      ],
      "execution_count": null,
      "outputs": []
    },
    {
      "cell_type": "markdown",
      "metadata": {
        "id": "_9GHLdE47Bgd"
      },
      "source": [
        "# ---------------------------------------------------------THE END ----------------------------------------------------------------------"
      ]
    }
  ]
}